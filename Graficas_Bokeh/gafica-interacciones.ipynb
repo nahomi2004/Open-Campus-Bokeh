{
 "cells": [
  {
   "cell_type": "code",
   "execution_count": 1,
   "metadata": {},
   "outputs": [
    {
     "data": {
      "text/html": [
       "    <style>\n",
       "        .bk-notebook-logo {\n",
       "            display: block;\n",
       "            width: 20px;\n",
       "            height: 20px;\n",
       "            background-image: url(data:image/png;base64,iVBORw0KGgoAAAANSUhEUgAAABQAAAAUCAYAAACNiR0NAAAABHNCSVQICAgIfAhkiAAAAAlwSFlzAAALEgAACxIB0t1+/AAAABx0RVh0U29mdHdhcmUAQWRvYmUgRmlyZXdvcmtzIENTNui8sowAAAOkSURBVDiNjZRtaJVlGMd/1/08zzln5zjP1LWcU9N0NkN8m2CYjpgQYQXqSs0I84OLIC0hkEKoPtiH3gmKoiJDU7QpLgoLjLIQCpEsNJ1vqUOdO7ppbuec5+V+rj4ctwzd8IIbbi6u+8f1539dt3A78eXC7QizUF7gyV1fD1Yqg4JWz84yffhm0qkFqBogB9rM8tZdtwVsPUhWhGcFJngGeWrPzHm5oaMmkfEg1usvLFyc8jLRqDOMru7AyC8saQr7GG7f5fvDeH7Ej8CM66nIF+8yngt6HWaKh7k49Soy9nXurCi1o3qUbS3zWfrYeQDTB/Qj6kX6Ybhw4B+bOYoLKCC9H3Nu/leUTZ1JdRWkkn2ldcCamzrcf47KKXdAJllSlxAOkRgyHsGC/zRday5Qld9DyoM4/q/rUoy/CXh3jzOu3bHUVZeU+DEn8FInkPBFlu3+nW3Nw0mk6vCDiWg8CeJaxEwuHS3+z5RgY+YBR6V1Z1nxSOfoaPa4LASWxxdNp+VWTk7+4vzaou8v8PN+xo+KY2xsw6une2frhw05CTYOmQvsEhjhWjn0bmXPjpE1+kplmmkP3suftwTubK9Vq22qKmrBhpY4jvd5afdRA3wGjFAgcnTK2s4hY0/GPNIb0nErGMCRxWOOX64Z8RAC4oCXdklmEvcL8o0BfkNK4lUg9HTl+oPlQxdNo3Mg4Nv175e/1LDGzZen30MEjRUtmXSfiTVu1kK8W4txyV6BMKlbgk3lMwYCiusNy9fVfvvwMxv8Ynl6vxoByANLTWplvuj/nF9m2+PDtt1eiHPBr1oIfhCChQMBw6Aw0UulqTKZdfVvfG7VcfIqLG9bcldL/+pdWTLxLUy8Qq38heUIjh4XlzZxzQm19lLFlr8vdQ97rjZVOLf8nclzckbcD4wxXMidpX30sFd37Fv/GtwwhzhxGVAprjbg0gCAEeIgwCZyTV2Z1REEW8O4py0wsjeloKoMr6iCY6dP92H6Vw/oTyICIthibxjm/DfN9lVz8IqtqKYLUXfoKVMVQVVJOElGjrnnUt9T9wbgp8AyYKaGlqingHZU/uG2NTZSVqwHQTWkx9hxjkpWDaCg6Ckj5qebgBVbT3V3NNXMSiWSDdGV3hrtzla7J+duwPOToIg42ChPQOQjspnSlp1V+Gjdged7+8UN5CRAV7a5EdFNwCjEaBR27b3W890TE7g24NAP/mMDXRWrGoFPQI9ls/MWO2dWFAar/xcOIImbbpA3zgAAAABJRU5ErkJggg==);\n",
       "        }\n",
       "    </style>\n",
       "    <div>\n",
       "        <a href=\"https://bokeh.org\" target=\"_blank\" class=\"bk-notebook-logo\"></a>\n",
       "        <span id=\"fb4dfad5-7217-4016-b10e-361f58e7f7e0\">Loading BokehJS ...</span>\n",
       "    </div>\n"
      ]
     },
     "metadata": {},
     "output_type": "display_data"
    },
    {
     "data": {
      "application/javascript": "'use strict';\n(function(root) {\n  function now() {\n    return new Date();\n  }\n\n  const force = true;\n\n  if (typeof root._bokeh_onload_callbacks === \"undefined\" || force === true) {\n    root._bokeh_onload_callbacks = [];\n    root._bokeh_is_loading = undefined;\n  }\n\nconst JS_MIME_TYPE = 'application/javascript';\n  const HTML_MIME_TYPE = 'text/html';\n  const EXEC_MIME_TYPE = 'application/vnd.bokehjs_exec.v0+json';\n  const CLASS_NAME = 'output_bokeh rendered_html';\n\n  /**\n   * Render data to the DOM node\n   */\n  function render(props, node) {\n    const script = document.createElement(\"script\");\n    node.appendChild(script);\n  }\n\n  /**\n   * Handle when an output is cleared or removed\n   */\n  function handleClearOutput(event, handle) {\n    function drop(id) {\n      const view = Bokeh.index.get_by_id(id)\n      if (view != null) {\n        view.model.document.clear()\n        Bokeh.index.delete(view)\n      }\n    }\n\n    const cell = handle.cell;\n\n    const id = cell.output_area._bokeh_element_id;\n    const server_id = cell.output_area._bokeh_server_id;\n\n    // Clean up Bokeh references\n    if (id != null) {\n      drop(id)\n    }\n\n    if (server_id !== undefined) {\n      // Clean up Bokeh references\n      const cmd_clean = \"from bokeh.io.state import curstate; print(curstate().uuid_to_server['\" + server_id + \"'].get_sessions()[0].document.roots[0]._id)\";\n      cell.notebook.kernel.execute(cmd_clean, {\n        iopub: {\n          output: function(msg) {\n            const id = msg.content.text.trim()\n            drop(id)\n          }\n        }\n      });\n      // Destroy server and session\n      const cmd_destroy = \"import bokeh.io.notebook as ion; ion.destroy_server('\" + server_id + \"')\";\n      cell.notebook.kernel.execute(cmd_destroy);\n    }\n  }\n\n  /**\n   * Handle when a new output is added\n   */\n  function handleAddOutput(event, handle) {\n    const output_area = handle.output_area;\n    const output = handle.output;\n\n    // limit handleAddOutput to display_data with EXEC_MIME_TYPE content only\n    if ((output.output_type != \"display_data\") || (!Object.prototype.hasOwnProperty.call(output.data, EXEC_MIME_TYPE))) {\n      return\n    }\n\n    const toinsert = output_area.element.find(\".\" + CLASS_NAME.split(' ')[0]);\n\n    if (output.metadata[EXEC_MIME_TYPE][\"id\"] !== undefined) {\n      toinsert[toinsert.length - 1].firstChild.textContent = output.data[JS_MIME_TYPE];\n      // store reference to embed id on output_area\n      output_area._bokeh_element_id = output.metadata[EXEC_MIME_TYPE][\"id\"];\n    }\n    if (output.metadata[EXEC_MIME_TYPE][\"server_id\"] !== undefined) {\n      const bk_div = document.createElement(\"div\");\n      bk_div.innerHTML = output.data[HTML_MIME_TYPE];\n      const script_attrs = bk_div.children[0].attributes;\n      for (let i = 0; i < script_attrs.length; i++) {\n        toinsert[toinsert.length - 1].firstChild.setAttribute(script_attrs[i].name, script_attrs[i].value);\n        toinsert[toinsert.length - 1].firstChild.textContent = bk_div.children[0].textContent\n      }\n      // store reference to server id on output_area\n      output_area._bokeh_server_id = output.metadata[EXEC_MIME_TYPE][\"server_id\"];\n    }\n  }\n\n  function register_renderer(events, OutputArea) {\n\n    function append_mime(data, metadata, element) {\n      // create a DOM node to render to\n      const toinsert = this.create_output_subarea(\n        metadata,\n        CLASS_NAME,\n        EXEC_MIME_TYPE\n      );\n      this.keyboard_manager.register_events(toinsert);\n      // Render to node\n      const props = {data: data, metadata: metadata[EXEC_MIME_TYPE]};\n      render(props, toinsert[toinsert.length - 1]);\n      element.append(toinsert);\n      return toinsert\n    }\n\n    /* Handle when an output is cleared or removed */\n    events.on('clear_output.CodeCell', handleClearOutput);\n    events.on('delete.Cell', handleClearOutput);\n\n    /* Handle when a new output is added */\n    events.on('output_added.OutputArea', handleAddOutput);\n\n    /**\n     * Register the mime type and append_mime function with output_area\n     */\n    OutputArea.prototype.register_mime_type(EXEC_MIME_TYPE, append_mime, {\n      /* Is output safe? */\n      safe: true,\n      /* Index of renderer in `output_area.display_order` */\n      index: 0\n    });\n  }\n\n  // register the mime type if in Jupyter Notebook environment and previously unregistered\n  if (root.Jupyter !== undefined) {\n    const events = require('base/js/events');\n    const OutputArea = require('notebook/js/outputarea').OutputArea;\n\n    if (OutputArea.prototype.mime_types().indexOf(EXEC_MIME_TYPE) == -1) {\n      register_renderer(events, OutputArea);\n    }\n  }\n  if (typeof (root._bokeh_timeout) === \"undefined\" || force === true) {\n    root._bokeh_timeout = Date.now() + 5000;\n    root._bokeh_failed_load = false;\n  }\n\n  const NB_LOAD_WARNING = {'data': {'text/html':\n     \"<div style='background-color: #fdd'>\\n\"+\n     \"<p>\\n\"+\n     \"BokehJS does not appear to have successfully loaded. If loading BokehJS from CDN, this \\n\"+\n     \"may be due to a slow or bad network connection. Possible fixes:\\n\"+\n     \"</p>\\n\"+\n     \"<ul>\\n\"+\n     \"<li>re-rerun `output_notebook()` to attempt to load from CDN again, or</li>\\n\"+\n     \"<li>use INLINE resources instead, as so:</li>\\n\"+\n     \"</ul>\\n\"+\n     \"<code>\\n\"+\n     \"from bokeh.resources import INLINE\\n\"+\n     \"output_notebook(resources=INLINE)\\n\"+\n     \"</code>\\n\"+\n     \"</div>\"}};\n\n  function display_loaded(error = null) {\n    const el = document.getElementById(\"fb4dfad5-7217-4016-b10e-361f58e7f7e0\");\n    if (el != null) {\n      const html = (() => {\n        if (typeof root.Bokeh === \"undefined\") {\n          if (error == null) {\n            return \"BokehJS is loading ...\";\n          } else {\n            return \"BokehJS failed to load.\";\n          }\n        } else {\n          const prefix = `BokehJS ${root.Bokeh.version}`;\n          if (error == null) {\n            return `${prefix} successfully loaded.`;\n          } else {\n            return `${prefix} <b>encountered errors</b> while loading and may not function as expected.`;\n          }\n        }\n      })();\n      el.innerHTML = html;\n\n      if (error != null) {\n        const wrapper = document.createElement(\"div\");\n        wrapper.style.overflow = \"auto\";\n        wrapper.style.height = \"5em\";\n        wrapper.style.resize = \"vertical\";\n        const content = document.createElement(\"div\");\n        content.style.fontFamily = \"monospace\";\n        content.style.whiteSpace = \"pre-wrap\";\n        content.style.backgroundColor = \"rgb(255, 221, 221)\";\n        content.textContent = error.stack ?? error.toString();\n        wrapper.append(content);\n        el.append(wrapper);\n      }\n    } else if (Date.now() < root._bokeh_timeout) {\n      setTimeout(() => display_loaded(error), 100);\n    }\n  }\n\n  function run_callbacks() {\n    try {\n      root._bokeh_onload_callbacks.forEach(function(callback) {\n        if (callback != null)\n          callback();\n      });\n    } finally {\n      delete root._bokeh_onload_callbacks\n    }\n    console.debug(\"Bokeh: all callbacks have finished\");\n  }\n\n  function load_libs(css_urls, js_urls, callback) {\n    if (css_urls == null) css_urls = [];\n    if (js_urls == null) js_urls = [];\n\n    root._bokeh_onload_callbacks.push(callback);\n    if (root._bokeh_is_loading > 0) {\n      console.debug(\"Bokeh: BokehJS is being loaded, scheduling callback at\", now());\n      return null;\n    }\n    if (js_urls == null || js_urls.length === 0) {\n      run_callbacks();\n      return null;\n    }\n    console.debug(\"Bokeh: BokehJS not loaded, scheduling load and callback at\", now());\n    root._bokeh_is_loading = css_urls.length + js_urls.length;\n\n    function on_load() {\n      root._bokeh_is_loading--;\n      if (root._bokeh_is_loading === 0) {\n        console.debug(\"Bokeh: all BokehJS libraries/stylesheets loaded\");\n        run_callbacks()\n      }\n    }\n\n    function on_error(url) {\n      console.error(\"failed to load \" + url);\n    }\n\n    for (let i = 0; i < css_urls.length; i++) {\n      const url = css_urls[i];\n      const element = document.createElement(\"link\");\n      element.onload = on_load;\n      element.onerror = on_error.bind(null, url);\n      element.rel = \"stylesheet\";\n      element.type = \"text/css\";\n      element.href = url;\n      console.debug(\"Bokeh: injecting link tag for BokehJS stylesheet: \", url);\n      document.body.appendChild(element);\n    }\n\n    for (let i = 0; i < js_urls.length; i++) {\n      const url = js_urls[i];\n      const element = document.createElement('script');\n      element.onload = on_load;\n      element.onerror = on_error.bind(null, url);\n      element.async = false;\n      element.src = url;\n      console.debug(\"Bokeh: injecting script tag for BokehJS library: \", url);\n      document.head.appendChild(element);\n    }\n  };\n\n  function inject_raw_css(css) {\n    const element = document.createElement(\"style\");\n    element.appendChild(document.createTextNode(css));\n    document.body.appendChild(element);\n  }\n\n  const js_urls = [\"https://cdn.bokeh.org/bokeh/release/bokeh-3.6.2.min.js\", \"https://cdn.bokeh.org/bokeh/release/bokeh-gl-3.6.2.min.js\", \"https://cdn.bokeh.org/bokeh/release/bokeh-widgets-3.6.2.min.js\", \"https://cdn.bokeh.org/bokeh/release/bokeh-tables-3.6.2.min.js\", \"https://cdn.bokeh.org/bokeh/release/bokeh-mathjax-3.6.2.min.js\"];\n  const css_urls = [];\n\n  const inline_js = [    function(Bokeh) {\n      Bokeh.set_log_level(\"info\");\n    },\nfunction(Bokeh) {\n    }\n  ];\n\n  function run_inline_js() {\n    if (root.Bokeh !== undefined || force === true) {\n      try {\n            for (let i = 0; i < inline_js.length; i++) {\n      inline_js[i].call(root, root.Bokeh);\n    }\n\n      } catch (error) {display_loaded(error);throw error;\n      }if (force === true) {\n        display_loaded();\n      }} else if (Date.now() < root._bokeh_timeout) {\n      setTimeout(run_inline_js, 100);\n    } else if (!root._bokeh_failed_load) {\n      console.log(\"Bokeh: BokehJS failed to load within specified timeout.\");\n      root._bokeh_failed_load = true;\n    } else if (force !== true) {\n      const cell = $(document.getElementById(\"fb4dfad5-7217-4016-b10e-361f58e7f7e0\")).parents('.cell').data().cell;\n      cell.output_area.append_execute_result(NB_LOAD_WARNING)\n    }\n  }\n\n  if (root._bokeh_is_loading === 0) {\n    console.debug(\"Bokeh: BokehJS loaded, going straight to plotting\");\n    run_inline_js();\n  } else {\n    load_libs(css_urls, js_urls, function() {\n      console.debug(\"Bokeh: BokehJS plotting callback run at\", now());\n      run_inline_js();\n    });\n  }\n}(window));",
      "application/vnd.bokehjs_load.v0+json": ""
     },
     "metadata": {},
     "output_type": "display_data"
    }
   ],
   "source": [
    "import pandas as pd\n",
    "import json\n",
    "from collections import defaultdict\n",
    "\n",
    "from bokeh.plotting import figure, curdoc, show  # Crear gráficos\n",
    "from bokeh.io import show, output_file, output_notebook  # Mostrar o guardar gráficos\n",
    "from bokeh.models import ColumnDataSource, Select, CustomJS  # Fuente de datos y Controles interactivos\n",
    "from bokeh.layouts import layout, row  # Organizar gráficos y widgets\n",
    "from bokeh.palettes import Category10\n",
    "\n",
    "output_notebook()"
   ]
  },
  {
   "cell_type": "code",
   "execution_count": 2,
   "metadata": {},
   "outputs": [],
   "source": [
    "# Ruta relativa al archivo JSON\n",
    "ruta_json = \"../Jsonl/course-creaaa1/course-creaaa1-limpio.json\""
   ]
  },
  {
   "cell_type": "code",
   "execution_count": 3,
   "metadata": {},
   "outputs": [],
   "source": [
    "# Ejemplo de uso:\n",
    "codigo_a_nombre = {\n",
    "    \"video_intro\": \"vKq2NotGPJQ\",\n",
    "    \"LR_1_Video1_Semana1\": \"U3cK1QMIIEQ\",\n",
    "    \"LR_1_Video2_Semana1\": \"9aNQZ9dKXRY\",\n",
    "    \"LR_1_Video3_Semana1\": \"lsNxh-lSpCY\",\n",
    "    \"LR_1_Video4_Semana1\": \"C3LnEvN0qZ0\",\n",
    "    \"LR_1_Video5_Semana1\": \"vbpbkQE5K_Q\",\n",
    "    \"LR_1_Video6_Semana1\": \"zCFa0xjGXGQ\",\n",
    "    \"LR_1_Video7_Semana1\": \"qlS7ShZfb-c\",\n",
    "    \"LR_1_Video8_Semana1\": \"8cKRb9CKtxk\",\n",
    "    \"LR_1_Video9_Semana1\": \"WyrfIZ6VBcM\",\n",
    "    \"LR_1_Video10_Semana1\": \"NgUhK3rw1IE\",\n",
    "    \"LR_1_Video11_Semana1\": \"ttP0EyzSbbo\",\n",
    "    \"LR_1_Video12_Semana1\": \"Vy4FWDyjZo4\",\n",
    "    \"LR_2_Video1_Semana1\": \"leg7NPlfNf0\",\n",
    "    \"LR_2_Video2_Semana1\": \"avTMbQWrFgM\",\n",
    "    \"LR_2_Video3_Semana1\": \"cNoUwGM1DQs\",\n",
    "    \"LR_2_Video4_Semana1\": \"6Mst559v-Uc\",\n",
    "    \"LR_2_Video5_Semana1\": \"CNQpefXv5DY\",\n",
    "    \"LR_2_Video_Semana1\": \"6W1_fBZFqns\",\n",
    "    \"LR_1_Video1_Semana2\": \"o5VwDVJ7N3Q\",\n",
    "    \"LR_1_Video2_Semana2\": \"LluqYlh2xg4\",\n",
    "    \"LR_1_Video3_Semana2\": \"eE658thjDj8\",\n",
    "    \"LR_1_Video4_Semana2\": \"QbEpClHzTeM\",\n",
    "    \"LR_1_Video5_Semana2\": \"MCG0or2ULB4\",\n",
    "    \"LR_1_Video6_Semana2\": \"ol-vGTdHBNU\",\n",
    "    \"LR_1_Video7_Semana2\": \"WTXS0IMQ3Ss\",\n",
    "    \"LR_1_Video8_Semana2\": \"9kqXmM3b3wc\",\n",
    "    \"VS1_Video1_Semana2\": \"_zQHV3vCGpA\",\n",
    "    \"VS2_Video2_Semana2\": \"RropOrUc2AE\",\n",
    "    \"Video1_Semana3\": \"VGHSSIUyFhI\",\n",
    "    \"Video1_Semana4\": \"kyGRuJXaboU\",\n",
    "}"
   ]
  },
  {
   "cell_type": "code",
   "execution_count": 4,
   "metadata": {},
   "outputs": [],
   "source": [
    "# Lista de interacciones relacionadas con videos\n",
    "interacciones_video = [\"play_video\", \"pause_video\", \"seek_video\", \"stop_video\"]"
   ]
  },
  {
   "cell_type": "code",
   "execution_count": 5,
   "metadata": {},
   "outputs": [],
   "source": [
    "# Leer el archivo JSON\n",
    "with open(ruta_json, \"r\", encoding=\"utf-8\") as f:\n",
    "    data = json.load(f)\n",
    "    \n",
    "# Convertir a DataFrame\n",
    "data = pd.DataFrame(data)"
   ]
  },
  {
   "cell_type": "code",
   "execution_count": 6,
   "metadata": {},
   "outputs": [],
   "source": [
    "# Función para contar interacciones\n",
    "def contar_interacciones(data, interacciones):\n",
    "    conteos = defaultdict(lambda: defaultdict(int))  # Diccionario anidado {interacción: {código_video: conteo}}\n",
    "    for _, row in data.iterrows():\n",
    "        if row.get(\"name\") in interacciones:  # Filtrar solo las interacciones definidas en la lista\n",
    "            try:\n",
    "                evento_json = json.loads(row.get(\"event\", '{}'))\n",
    "                codigo_video = evento_json.get('code', '')  # Cambia 'code' si la clave tiene otro nombre\n",
    "                if codigo_video:\n",
    "                    conteos[row.get(\"name\")][codigo_video] += 1\n",
    "            except json.JSONDecodeError as e:\n",
    "                print(f\"Error al decodificar línea: {e}\")\n",
    "    return conteos"
   ]
  },
  {
   "cell_type": "code",
   "execution_count": 7,
   "metadata": {},
   "outputs": [],
   "source": [
    "# Convertir los códigos de video a nombres y preparar los datos para la gráfica\n",
    "def convertir_codigos_a_nombres(conteos, codigo_a_nombre):\n",
    "    \"\"\"\n",
    "    Convierte los códigos de video en los nombres correspondientes dentro de un diccionario anidado.\n",
    "    \n",
    "    Parameters:\n",
    "        conteos (defaultdict): Diccionario anidado {interacción: {código_video: conteo}}.\n",
    "        codigo_a_nombre (dict): Diccionario que mapea códigos a nombres de videos.\n",
    "    \n",
    "    Returns:\n",
    "        defaultdict: Diccionario con los códigos reemplazados por nombres.\n",
    "    \"\"\"\n",
    "    conteos_con_nombres = defaultdict(dict)\n",
    "    for interaccion, videos in conteos.items():\n",
    "        for codigo, conteo in videos.items():\n",
    "            nombre_video = codigo_a_nombre.get(codigo, codigo)  # Si no se encuentra el código, se usa el original\n",
    "            conteos_con_nombres[interaccion][nombre_video] = conteo\n",
    "    return conteos_con_nombres\n"
   ]
  },
  {
   "cell_type": "code",
   "execution_count": 8,
   "metadata": {},
   "outputs": [],
   "source": [
    "# Obtener los conteos\n",
    "conteos = contar_interacciones(data, interacciones_video)\n",
    "# Diccionario con nombres\n",
    "conteos_con_nombres = convertir_codigos_a_nombres(conteos, codigo_a_nombre)  "
   ]
  },
  {
   "cell_type": "code",
   "execution_count": 9,
   "metadata": {},
   "outputs": [],
   "source": [
    "# Función para preparar los datos\n",
    "def preparar_datos(conteos, interaccion_seleccionada):\n",
    "    \"\"\"\n",
    "    Prepara los datos para la gráfica dependiendo de la interacción seleccionada.\n",
    "    \"\"\"\n",
    "    if interaccion_seleccionada == \"Todas las interacciones\":\n",
    "        # Preparar datos apilados para todas las interacciones\n",
    "        data = {\"videos\": list(codigo_a_nombre.values())}\n",
    "        for tipo, videos in conteos.items():\n",
    "            data[tipo] = [videos.get(codigo, 0) for codigo in codigo_a_nombre.keys()]\n",
    "    else:\n",
    "        # Datos específicos para una sola interacción\n",
    "        data = {\n",
    "            \"videos\": list(codigo_a_nombre.values()),\n",
    "            \"reproducciones\": [\n",
    "                conteos.get(interaccion_seleccionada, {}).get(codigo, 0)\n",
    "                for codigo in codigo_a_nombre.keys()\n",
    "            ],\n",
    "        }\n",
    "\n",
    "    return ColumnDataSource(data=data)"
   ]
  },
  {
   "cell_type": "code",
   "execution_count": 10,
   "metadata": {},
   "outputs": [],
   "source": [
    "# Callback para actualizar la gráfica\n",
    "def actualizar_grafica(attr, old, new):\n",
    "    \"\"\"\n",
    "    Actualiza la gráfica según la interacción seleccionada.\n",
    "    \"\"\"\n",
    "    nueva_fuente = preparar_datos(conteos, select.value)\n",
    "    source.data = nueva_fuente.data\n",
    "\n",
    "    # Actualizar las barras de la gráfica\n",
    "    if select.value == \"Todas las interacciones\":\n",
    "        p.renderers = []  # Limpiar las barras existentes\n",
    "        p.vbar_stack(\n",
    "            list(conteos.keys()), \n",
    "            x=\"videos\", \n",
    "            source=source, \n",
    "            width=0.8,\n",
    "            color=Category10[len(conteos)], \n",
    "            legend_label=list(conteos.keys()),\n",
    "        )\n",
    "        p.legend.click_policy = \"mute\"\n",
    "    else:\n",
    "        p.renderers = []  # Eliminar las barras existentes\n",
    "        p.vbar(\n",
    "            x=\"videos\", \n",
    "            top=\"reproducciones\", \n",
    "            width=0.8, \n",
    "            source=source,\n",
    "            fill_color=\"skyblue\", \n",
    "            line_color=\"black\",\n",
    "        )"
   ]
  },
  {
   "cell_type": "code",
   "execution_count": 11,
   "metadata": {},
   "outputs": [],
   "source": [
    "interaccion_inicial = \"Todas las interacciones\"\n",
    "\n",
    "# Preparar fuente inicial de datos\n",
    "source = preparar_datos(conteos, interaccion_inicial)"
   ]
  },
  {
   "cell_type": "code",
   "execution_count": 14,
   "metadata": {},
   "outputs": [],
   "source": [
    "# Crear gráfica inicial con herramientas personalizadas\n",
    "p = figure(\n",
    "    x_range=list(codigo_a_nombre.values()), \n",
    "    title=\"Interacciones por Video\",\n",
    "    x_axis_label=\"Videos\", \n",
    "    y_axis_label=\"Reproducciones\",\n",
    "    width=800, \n",
    "    height=400,\n",
    "    tools=\"pan,box_zoom,wheel_zoom,save,reset\",  # Herramientas personalizadas\n",
    "    toolbar_location=\"right\",  # Ubicación de la barra de herramientas\n",
    ")\n",
    "\n",
    "# Configurar la orientación de las etiquetas del eje X\n",
    "p.xaxis.major_label_orientation = 0.785  # En radianes, 45 grados\n",
    "\n",
    "p.vbar_stack(\n",
    "    list(conteos.keys()), \n",
    "    x=\"videos\", \n",
    "    source=source, \n",
    "    width=0.8,\n",
    "    color=Category10[len(conteos)], \n",
    "    legend_label=list(conteos.keys()),\n",
    ")\n",
    "p.legend.click_policy = \"mute\""
   ]
  },
  {
   "cell_type": "code",
   "execution_count": 15,
   "metadata": {},
   "outputs": [
    {
     "name": "stderr",
     "output_type": "stream",
     "text": [
      "WARNING:bokeh.embed.util:\n",
      "You are generating standalone HTML/JS output, but trying to use real Python\n",
      "callbacks (i.e. with on_change or on_event). This combination cannot work.\n",
      "\n",
      "Only JavaScript callbacks may be used with standalone output. For more\n",
      "information on JavaScript callbacks with Bokeh, see:\n",
      "\n",
      "    https://docs.bokeh.org/en/latest/docs/user_guide/interaction/js_callbacks.html\n",
      "\n",
      "Alternatively, to use real Python callbacks, a Bokeh server application may\n",
      "be used. For more information on building and running Bokeh applications, see:\n",
      "\n",
      "    https://docs.bokeh.org/en/latest/docs/user_guide/server.html\n",
      "\n"
     ]
    },
    {
     "data": {
      "text/html": [
       "\n",
       "  <div id=\"e3994e63-658c-4492-b68f-d91a611fe2ad\" data-root-id=\"p1175\" style=\"display: contents;\"></div>\n"
      ]
     },
     "metadata": {},
     "output_type": "display_data"
    },
    {
     "data": {
      "application/javascript": "(function(root) {\n  function embed_document(root) {\n  const docs_json = {\"23b3e1ae-70b5-4ee1-9f8e-1f12b96ae848\":{\"version\":\"3.6.2\",\"title\":\"Bokeh Application\",\"roots\":[{\"type\":\"object\",\"name\":\"Row\",\"id\":\"p1175\",\"attributes\":{\"children\":[{\"type\":\"object\",\"name\":\"Select\",\"id\":\"p1174\",\"attributes\":{\"title\":\"Seleccionar interacci\\u00f3n\",\"options\":[\"Todas las interacciones\",\"play_video\",\"seek_video\",\"pause_video\",\"stop_video\"],\"value\":\"Todas las interacciones\"}},{\"type\":\"object\",\"name\":\"Figure\",\"id\":\"p1090\",\"attributes\":{\"width\":800,\"height\":400,\"x_range\":{\"type\":\"object\",\"name\":\"FactorRange\",\"id\":\"p1100\",\"attributes\":{\"factors\":[\"vKq2NotGPJQ\",\"U3cK1QMIIEQ\",\"9aNQZ9dKXRY\",\"lsNxh-lSpCY\",\"C3LnEvN0qZ0\",\"vbpbkQE5K_Q\",\"zCFa0xjGXGQ\",\"qlS7ShZfb-c\",\"8cKRb9CKtxk\",\"WyrfIZ6VBcM\",\"NgUhK3rw1IE\",\"ttP0EyzSbbo\",\"Vy4FWDyjZo4\",\"leg7NPlfNf0\",\"avTMbQWrFgM\",\"cNoUwGM1DQs\",\"6Mst559v-Uc\",\"CNQpefXv5DY\",\"6W1_fBZFqns\",\"o5VwDVJ7N3Q\",\"LluqYlh2xg4\",\"eE658thjDj8\",\"QbEpClHzTeM\",\"MCG0or2ULB4\",\"ol-vGTdHBNU\",\"WTXS0IMQ3Ss\",\"9kqXmM3b3wc\",\"_zQHV3vCGpA\",\"RropOrUc2AE\",\"VGHSSIUyFhI\",\"kyGRuJXaboU\"]}},\"y_range\":{\"type\":\"object\",\"name\":\"DataRange1d\",\"id\":\"p1092\"},\"x_scale\":{\"type\":\"object\",\"name\":\"CategoricalScale\",\"id\":\"p1101\"},\"y_scale\":{\"type\":\"object\",\"name\":\"LinearScale\",\"id\":\"p1102\"},\"title\":{\"type\":\"object\",\"name\":\"Title\",\"id\":\"p1093\",\"attributes\":{\"text\":\"Interacciones por Video\"}},\"renderers\":[{\"type\":\"object\",\"name\":\"GlyphRenderer\",\"id\":\"p1139\",\"attributes\":{\"name\":\"play_video\",\"data_source\":{\"type\":\"object\",\"name\":\"ColumnDataSource\",\"id\":\"p1001\",\"attributes\":{\"selected\":{\"type\":\"object\",\"name\":\"Selection\",\"id\":\"p1002\",\"attributes\":{\"indices\":[],\"line_indices\":[]}},\"selection_policy\":{\"type\":\"object\",\"name\":\"UnionRenderers\",\"id\":\"p1003\"},\"data\":{\"type\":\"map\",\"entries\":[[\"videos\",[\"vKq2NotGPJQ\",\"U3cK1QMIIEQ\",\"9aNQZ9dKXRY\",\"lsNxh-lSpCY\",\"C3LnEvN0qZ0\",\"vbpbkQE5K_Q\",\"zCFa0xjGXGQ\",\"qlS7ShZfb-c\",\"8cKRb9CKtxk\",\"WyrfIZ6VBcM\",\"NgUhK3rw1IE\",\"ttP0EyzSbbo\",\"Vy4FWDyjZo4\",\"leg7NPlfNf0\",\"avTMbQWrFgM\",\"cNoUwGM1DQs\",\"6Mst559v-Uc\",\"CNQpefXv5DY\",\"6W1_fBZFqns\",\"o5VwDVJ7N3Q\",\"LluqYlh2xg4\",\"eE658thjDj8\",\"QbEpClHzTeM\",\"MCG0or2ULB4\",\"ol-vGTdHBNU\",\"WTXS0IMQ3Ss\",\"9kqXmM3b3wc\",\"_zQHV3vCGpA\",\"RropOrUc2AE\",\"VGHSSIUyFhI\",\"kyGRuJXaboU\"]],[\"play_video\",[0,0,0,0,0,0,0,0,0,0,0,0,0,0,0,0,0,0,0,0,0,0,0,0,0,0,0,0,0,0,0]],[\"seek_video\",[0,0,0,0,0,0,0,0,0,0,0,0,0,0,0,0,0,0,0,0,0,0,0,0,0,0,0,0,0,0,0]],[\"pause_video\",[0,0,0,0,0,0,0,0,0,0,0,0,0,0,0,0,0,0,0,0,0,0,0,0,0,0,0,0,0,0,0]],[\"stop_video\",[0,0,0,0,0,0,0,0,0,0,0,0,0,0,0,0,0,0,0,0,0,0,0,0,0,0,0,0,0,0,0]]]}}},\"view\":{\"type\":\"object\",\"name\":\"CDSView\",\"id\":\"p1140\",\"attributes\":{\"filter\":{\"type\":\"object\",\"name\":\"AllIndices\",\"id\":\"p1141\"}}},\"glyph\":{\"type\":\"object\",\"name\":\"VBar\",\"id\":\"p1136\",\"attributes\":{\"x\":{\"type\":\"field\",\"field\":\"videos\"},\"width\":{\"type\":\"value\",\"value\":0.8},\"bottom\":{\"type\":\"expr\",\"expr\":{\"type\":\"object\",\"name\":\"Stack\",\"id\":\"p1125\",\"attributes\":{\"fields\":[]}}},\"top\":{\"type\":\"expr\",\"expr\":{\"type\":\"object\",\"name\":\"Stack\",\"id\":\"p1126\",\"attributes\":{\"fields\":[\"play_video\"]}}},\"line_color\":{\"type\":\"value\",\"value\":\"#1f77b4\"},\"fill_color\":{\"type\":\"value\",\"value\":\"#1f77b4\"},\"hatch_color\":{\"type\":\"value\",\"value\":\"#1f77b4\"}}},\"nonselection_glyph\":{\"type\":\"object\",\"name\":\"VBar\",\"id\":\"p1137\",\"attributes\":{\"x\":{\"type\":\"field\",\"field\":\"videos\"},\"width\":{\"type\":\"value\",\"value\":0.8},\"bottom\":{\"type\":\"expr\",\"expr\":{\"id\":\"p1125\"}},\"top\":{\"type\":\"expr\",\"expr\":{\"id\":\"p1126\"}},\"line_color\":{\"type\":\"value\",\"value\":\"#1f77b4\"},\"line_alpha\":{\"type\":\"value\",\"value\":0.1},\"fill_color\":{\"type\":\"value\",\"value\":\"#1f77b4\"},\"fill_alpha\":{\"type\":\"value\",\"value\":0.1},\"hatch_color\":{\"type\":\"value\",\"value\":\"#1f77b4\"},\"hatch_alpha\":{\"type\":\"value\",\"value\":0.1}}},\"muted_glyph\":{\"type\":\"object\",\"name\":\"VBar\",\"id\":\"p1138\",\"attributes\":{\"x\":{\"type\":\"field\",\"field\":\"videos\"},\"width\":{\"type\":\"value\",\"value\":0.8},\"bottom\":{\"type\":\"expr\",\"expr\":{\"id\":\"p1125\"}},\"top\":{\"type\":\"expr\",\"expr\":{\"id\":\"p1126\"}},\"line_color\":{\"type\":\"value\",\"value\":\"#1f77b4\"},\"line_alpha\":{\"type\":\"value\",\"value\":0.2},\"fill_color\":{\"type\":\"value\",\"value\":\"#1f77b4\"},\"fill_alpha\":{\"type\":\"value\",\"value\":0.2},\"hatch_color\":{\"type\":\"value\",\"value\":\"#1f77b4\"},\"hatch_alpha\":{\"type\":\"value\",\"value\":0.2}}}}},{\"type\":\"object\",\"name\":\"GlyphRenderer\",\"id\":\"p1150\",\"attributes\":{\"name\":\"seek_video\",\"data_source\":{\"id\":\"p1001\"},\"view\":{\"type\":\"object\",\"name\":\"CDSView\",\"id\":\"p1151\",\"attributes\":{\"filter\":{\"type\":\"object\",\"name\":\"AllIndices\",\"id\":\"p1152\"}}},\"glyph\":{\"type\":\"object\",\"name\":\"VBar\",\"id\":\"p1147\",\"attributes\":{\"x\":{\"type\":\"field\",\"field\":\"videos\"},\"width\":{\"type\":\"value\",\"value\":0.8},\"bottom\":{\"type\":\"expr\",\"expr\":{\"type\":\"object\",\"name\":\"Stack\",\"id\":\"p1127\",\"attributes\":{\"fields\":[\"play_video\"]}}},\"top\":{\"type\":\"expr\",\"expr\":{\"type\":\"object\",\"name\":\"Stack\",\"id\":\"p1128\",\"attributes\":{\"fields\":[\"play_video\",\"seek_video\"]}}},\"line_color\":{\"type\":\"value\",\"value\":\"#ff7f0e\"},\"fill_color\":{\"type\":\"value\",\"value\":\"#ff7f0e\"},\"hatch_color\":{\"type\":\"value\",\"value\":\"#ff7f0e\"}}},\"nonselection_glyph\":{\"type\":\"object\",\"name\":\"VBar\",\"id\":\"p1148\",\"attributes\":{\"x\":{\"type\":\"field\",\"field\":\"videos\"},\"width\":{\"type\":\"value\",\"value\":0.8},\"bottom\":{\"type\":\"expr\",\"expr\":{\"id\":\"p1127\"}},\"top\":{\"type\":\"expr\",\"expr\":{\"id\":\"p1128\"}},\"line_color\":{\"type\":\"value\",\"value\":\"#ff7f0e\"},\"line_alpha\":{\"type\":\"value\",\"value\":0.1},\"fill_color\":{\"type\":\"value\",\"value\":\"#ff7f0e\"},\"fill_alpha\":{\"type\":\"value\",\"value\":0.1},\"hatch_color\":{\"type\":\"value\",\"value\":\"#ff7f0e\"},\"hatch_alpha\":{\"type\":\"value\",\"value\":0.1}}},\"muted_glyph\":{\"type\":\"object\",\"name\":\"VBar\",\"id\":\"p1149\",\"attributes\":{\"x\":{\"type\":\"field\",\"field\":\"videos\"},\"width\":{\"type\":\"value\",\"value\":0.8},\"bottom\":{\"type\":\"expr\",\"expr\":{\"id\":\"p1127\"}},\"top\":{\"type\":\"expr\",\"expr\":{\"id\":\"p1128\"}},\"line_color\":{\"type\":\"value\",\"value\":\"#ff7f0e\"},\"line_alpha\":{\"type\":\"value\",\"value\":0.2},\"fill_color\":{\"type\":\"value\",\"value\":\"#ff7f0e\"},\"fill_alpha\":{\"type\":\"value\",\"value\":0.2},\"hatch_color\":{\"type\":\"value\",\"value\":\"#ff7f0e\"},\"hatch_alpha\":{\"type\":\"value\",\"value\":0.2}}}}},{\"type\":\"object\",\"name\":\"GlyphRenderer\",\"id\":\"p1160\",\"attributes\":{\"name\":\"pause_video\",\"data_source\":{\"id\":\"p1001\"},\"view\":{\"type\":\"object\",\"name\":\"CDSView\",\"id\":\"p1161\",\"attributes\":{\"filter\":{\"type\":\"object\",\"name\":\"AllIndices\",\"id\":\"p1162\"}}},\"glyph\":{\"type\":\"object\",\"name\":\"VBar\",\"id\":\"p1157\",\"attributes\":{\"x\":{\"type\":\"field\",\"field\":\"videos\"},\"width\":{\"type\":\"value\",\"value\":0.8},\"bottom\":{\"type\":\"expr\",\"expr\":{\"type\":\"object\",\"name\":\"Stack\",\"id\":\"p1129\",\"attributes\":{\"fields\":[\"play_video\",\"seek_video\"]}}},\"top\":{\"type\":\"expr\",\"expr\":{\"type\":\"object\",\"name\":\"Stack\",\"id\":\"p1130\",\"attributes\":{\"fields\":[\"play_video\",\"seek_video\",\"pause_video\"]}}},\"line_color\":{\"type\":\"value\",\"value\":\"#2ca02c\"},\"fill_color\":{\"type\":\"value\",\"value\":\"#2ca02c\"},\"hatch_color\":{\"type\":\"value\",\"value\":\"#2ca02c\"}}},\"nonselection_glyph\":{\"type\":\"object\",\"name\":\"VBar\",\"id\":\"p1158\",\"attributes\":{\"x\":{\"type\":\"field\",\"field\":\"videos\"},\"width\":{\"type\":\"value\",\"value\":0.8},\"bottom\":{\"type\":\"expr\",\"expr\":{\"id\":\"p1129\"}},\"top\":{\"type\":\"expr\",\"expr\":{\"id\":\"p1130\"}},\"line_color\":{\"type\":\"value\",\"value\":\"#2ca02c\"},\"line_alpha\":{\"type\":\"value\",\"value\":0.1},\"fill_color\":{\"type\":\"value\",\"value\":\"#2ca02c\"},\"fill_alpha\":{\"type\":\"value\",\"value\":0.1},\"hatch_color\":{\"type\":\"value\",\"value\":\"#2ca02c\"},\"hatch_alpha\":{\"type\":\"value\",\"value\":0.1}}},\"muted_glyph\":{\"type\":\"object\",\"name\":\"VBar\",\"id\":\"p1159\",\"attributes\":{\"x\":{\"type\":\"field\",\"field\":\"videos\"},\"width\":{\"type\":\"value\",\"value\":0.8},\"bottom\":{\"type\":\"expr\",\"expr\":{\"id\":\"p1129\"}},\"top\":{\"type\":\"expr\",\"expr\":{\"id\":\"p1130\"}},\"line_color\":{\"type\":\"value\",\"value\":\"#2ca02c\"},\"line_alpha\":{\"type\":\"value\",\"value\":0.2},\"fill_color\":{\"type\":\"value\",\"value\":\"#2ca02c\"},\"fill_alpha\":{\"type\":\"value\",\"value\":0.2},\"hatch_color\":{\"type\":\"value\",\"value\":\"#2ca02c\"},\"hatch_alpha\":{\"type\":\"value\",\"value\":0.2}}}}},{\"type\":\"object\",\"name\":\"GlyphRenderer\",\"id\":\"p1170\",\"attributes\":{\"name\":\"stop_video\",\"data_source\":{\"id\":\"p1001\"},\"view\":{\"type\":\"object\",\"name\":\"CDSView\",\"id\":\"p1171\",\"attributes\":{\"filter\":{\"type\":\"object\",\"name\":\"AllIndices\",\"id\":\"p1172\"}}},\"glyph\":{\"type\":\"object\",\"name\":\"VBar\",\"id\":\"p1167\",\"attributes\":{\"x\":{\"type\":\"field\",\"field\":\"videos\"},\"width\":{\"type\":\"value\",\"value\":0.8},\"bottom\":{\"type\":\"expr\",\"expr\":{\"type\":\"object\",\"name\":\"Stack\",\"id\":\"p1131\",\"attributes\":{\"fields\":[\"play_video\",\"seek_video\",\"pause_video\"]}}},\"top\":{\"type\":\"expr\",\"expr\":{\"type\":\"object\",\"name\":\"Stack\",\"id\":\"p1132\",\"attributes\":{\"fields\":[\"play_video\",\"seek_video\",\"pause_video\",\"stop_video\"]}}},\"line_color\":{\"type\":\"value\",\"value\":\"#d62728\"},\"fill_color\":{\"type\":\"value\",\"value\":\"#d62728\"},\"hatch_color\":{\"type\":\"value\",\"value\":\"#d62728\"}}},\"nonselection_glyph\":{\"type\":\"object\",\"name\":\"VBar\",\"id\":\"p1168\",\"attributes\":{\"x\":{\"type\":\"field\",\"field\":\"videos\"},\"width\":{\"type\":\"value\",\"value\":0.8},\"bottom\":{\"type\":\"expr\",\"expr\":{\"id\":\"p1131\"}},\"top\":{\"type\":\"expr\",\"expr\":{\"id\":\"p1132\"}},\"line_color\":{\"type\":\"value\",\"value\":\"#d62728\"},\"line_alpha\":{\"type\":\"value\",\"value\":0.1},\"fill_color\":{\"type\":\"value\",\"value\":\"#d62728\"},\"fill_alpha\":{\"type\":\"value\",\"value\":0.1},\"hatch_color\":{\"type\":\"value\",\"value\":\"#d62728\"},\"hatch_alpha\":{\"type\":\"value\",\"value\":0.1}}},\"muted_glyph\":{\"type\":\"object\",\"name\":\"VBar\",\"id\":\"p1169\",\"attributes\":{\"x\":{\"type\":\"field\",\"field\":\"videos\"},\"width\":{\"type\":\"value\",\"value\":0.8},\"bottom\":{\"type\":\"expr\",\"expr\":{\"id\":\"p1131\"}},\"top\":{\"type\":\"expr\",\"expr\":{\"id\":\"p1132\"}},\"line_color\":{\"type\":\"value\",\"value\":\"#d62728\"},\"line_alpha\":{\"type\":\"value\",\"value\":0.2},\"fill_color\":{\"type\":\"value\",\"value\":\"#d62728\"},\"fill_alpha\":{\"type\":\"value\",\"value\":0.2},\"hatch_color\":{\"type\":\"value\",\"value\":\"#d62728\"},\"hatch_alpha\":{\"type\":\"value\",\"value\":0.2}}}}}],\"toolbar\":{\"type\":\"object\",\"name\":\"Toolbar\",\"id\":\"p1099\",\"attributes\":{\"tools\":[{\"type\":\"object\",\"name\":\"PanTool\",\"id\":\"p1113\"},{\"type\":\"object\",\"name\":\"BoxZoomTool\",\"id\":\"p1114\",\"attributes\":{\"overlay\":{\"type\":\"object\",\"name\":\"BoxAnnotation\",\"id\":\"p1115\",\"attributes\":{\"syncable\":false,\"line_color\":\"black\",\"line_alpha\":1.0,\"line_width\":2,\"line_dash\":[4,4],\"fill_color\":\"lightgrey\",\"fill_alpha\":0.5,\"level\":\"overlay\",\"visible\":false,\"left\":{\"type\":\"number\",\"value\":\"nan\"},\"right\":{\"type\":\"number\",\"value\":\"nan\"},\"top\":{\"type\":\"number\",\"value\":\"nan\"},\"bottom\":{\"type\":\"number\",\"value\":\"nan\"},\"left_units\":\"canvas\",\"right_units\":\"canvas\",\"top_units\":\"canvas\",\"bottom_units\":\"canvas\",\"handles\":{\"type\":\"object\",\"name\":\"BoxInteractionHandles\",\"id\":\"p1121\",\"attributes\":{\"all\":{\"type\":\"object\",\"name\":\"AreaVisuals\",\"id\":\"p1120\",\"attributes\":{\"fill_color\":\"white\",\"hover_fill_color\":\"lightgray\"}}}}}}}},{\"type\":\"object\",\"name\":\"WheelZoomTool\",\"id\":\"p1122\",\"attributes\":{\"renderers\":\"auto\"}},{\"type\":\"object\",\"name\":\"SaveTool\",\"id\":\"p1123\"},{\"type\":\"object\",\"name\":\"ResetTool\",\"id\":\"p1124\"}]}},\"left\":[{\"type\":\"object\",\"name\":\"LinearAxis\",\"id\":\"p1108\",\"attributes\":{\"ticker\":{\"type\":\"object\",\"name\":\"BasicTicker\",\"id\":\"p1109\",\"attributes\":{\"mantissas\":[1,2,5]}},\"formatter\":{\"type\":\"object\",\"name\":\"BasicTickFormatter\",\"id\":\"p1110\"},\"axis_label\":\"Reproducciones\",\"major_label_policy\":{\"type\":\"object\",\"name\":\"AllLabels\",\"id\":\"p1111\"}}}],\"below\":[{\"type\":\"object\",\"name\":\"CategoricalAxis\",\"id\":\"p1103\",\"attributes\":{\"ticker\":{\"type\":\"object\",\"name\":\"CategoricalTicker\",\"id\":\"p1104\"},\"formatter\":{\"type\":\"object\",\"name\":\"CategoricalTickFormatter\",\"id\":\"p1105\"},\"axis_label\":\"Videos\",\"major_label_orientation\":0.785,\"major_label_policy\":{\"type\":\"object\",\"name\":\"AllLabels\",\"id\":\"p1106\"}}}],\"center\":[{\"type\":\"object\",\"name\":\"Grid\",\"id\":\"p1107\",\"attributes\":{\"axis\":{\"id\":\"p1103\"}}},{\"type\":\"object\",\"name\":\"Grid\",\"id\":\"p1112\",\"attributes\":{\"dimension\":1,\"axis\":{\"id\":\"p1108\"}}},{\"type\":\"object\",\"name\":\"Legend\",\"id\":\"p1142\",\"attributes\":{\"click_policy\":\"mute\",\"items\":[{\"type\":\"object\",\"name\":\"LegendItem\",\"id\":\"p1143\",\"attributes\":{\"label\":{\"type\":\"value\",\"value\":\"play_video\"},\"renderers\":[{\"id\":\"p1139\"}]}},{\"type\":\"object\",\"name\":\"LegendItem\",\"id\":\"p1153\",\"attributes\":{\"label\":{\"type\":\"value\",\"value\":\"seek_video\"},\"renderers\":[{\"id\":\"p1150\"}]}},{\"type\":\"object\",\"name\":\"LegendItem\",\"id\":\"p1163\",\"attributes\":{\"label\":{\"type\":\"value\",\"value\":\"pause_video\"},\"renderers\":[{\"id\":\"p1160\"}]}},{\"type\":\"object\",\"name\":\"LegendItem\",\"id\":\"p1173\",\"attributes\":{\"label\":{\"type\":\"value\",\"value\":\"stop_video\"},\"renderers\":[{\"id\":\"p1170\"}]}}]}}]}}]}}]}};\n  const render_items = [{\"docid\":\"23b3e1ae-70b5-4ee1-9f8e-1f12b96ae848\",\"roots\":{\"p1175\":\"e3994e63-658c-4492-b68f-d91a611fe2ad\"},\"root_ids\":[\"p1175\"]}];\n  void root.Bokeh.embed.embed_items_notebook(docs_json, render_items);\n  }\n  if (root.Bokeh !== undefined) {\n    embed_document(root);\n  } else {\n    let attempts = 0;\n    const timer = setInterval(function(root) {\n      if (root.Bokeh !== undefined) {\n        clearInterval(timer);\n        embed_document(root);\n      } else {\n        attempts++;\n        if (attempts > 100) {\n          clearInterval(timer);\n          console.log(\"Bokeh: ERROR: Unable to run BokehJS code because BokehJS library is missing\");\n        }\n      }\n    }, 10, root)\n  }\n})(window);",
      "application/vnd.bokehjs_exec.v0+json": ""
     },
     "metadata": {
      "application/vnd.bokehjs_exec.v0+json": {
       "id": "p1175"
      }
     },
     "output_type": "display_data"
    }
   ],
   "source": [
    "# Crear el widget Select\n",
    "select = Select(\n",
    "    title=\"Seleccionar interacción\", \n",
    "    value=interaccion_inicial,\n",
    "    options=[\"Todas las interacciones\"] + list(conteos.keys()),\n",
    ")\n",
    "select.on_change(\"value\", actualizar_grafica)\n",
    "\n",
    "# Layout final (horizontal)\n",
    "layout_final = row(select, p)  # Organizar de forma horizontal\n",
    "curdoc().add_root(layout_final)\n",
    "show(layout_final)"
   ]
  },
  {
   "cell_type": "code",
   "execution_count": null,
   "metadata": {},
   "outputs": [],
   "source": []
  }
 ],
 "metadata": {
  "kernelspec": {
   "display_name": "Open-Campus-Bokeh",
   "language": "python",
   "name": "python3"
  },
  "language_info": {
   "codemirror_mode": {
    "name": "ipython",
    "version": 3
   },
   "file_extension": ".py",
   "mimetype": "text/x-python",
   "name": "python",
   "nbconvert_exporter": "python",
   "pygments_lexer": "ipython3",
   "version": "3.12.7"
  }
 },
 "nbformat": 4,
 "nbformat_minor": 2
}
