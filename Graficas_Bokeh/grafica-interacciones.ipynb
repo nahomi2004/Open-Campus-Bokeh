{
 "cells": [
  {
   "cell_type": "code",
   "execution_count": 28,
   "metadata": {},
   "outputs": [
    {
     "data": {
      "text/html": [
       "    <style>\n",
       "        .bk-notebook-logo {\n",
       "            display: block;\n",
       "            width: 20px;\n",
       "            height: 20px;\n",
       "            background-image: url(data:image/png;base64,iVBORw0KGgoAAAANSUhEUgAAABQAAAAUCAYAAACNiR0NAAAABHNCSVQICAgIfAhkiAAAAAlwSFlzAAALEgAACxIB0t1+/AAAABx0RVh0U29mdHdhcmUAQWRvYmUgRmlyZXdvcmtzIENTNui8sowAAAOkSURBVDiNjZRtaJVlGMd/1/08zzln5zjP1LWcU9N0NkN8m2CYjpgQYQXqSs0I84OLIC0hkEKoPtiH3gmKoiJDU7QpLgoLjLIQCpEsNJ1vqUOdO7ppbuec5+V+rj4ctwzd8IIbbi6u+8f1539dt3A78eXC7QizUF7gyV1fD1Yqg4JWz84yffhm0qkFqBogB9rM8tZdtwVsPUhWhGcFJngGeWrPzHm5oaMmkfEg1usvLFyc8jLRqDOMru7AyC8saQr7GG7f5fvDeH7Ej8CM66nIF+8yngt6HWaKh7k49Soy9nXurCi1o3qUbS3zWfrYeQDTB/Qj6kX6Ybhw4B+bOYoLKCC9H3Nu/leUTZ1JdRWkkn2ldcCamzrcf47KKXdAJllSlxAOkRgyHsGC/zRday5Qld9DyoM4/q/rUoy/CXh3jzOu3bHUVZeU+DEn8FInkPBFlu3+nW3Nw0mk6vCDiWg8CeJaxEwuHS3+z5RgY+YBR6V1Z1nxSOfoaPa4LASWxxdNp+VWTk7+4vzaou8v8PN+xo+KY2xsw6une2frhw05CTYOmQvsEhjhWjn0bmXPjpE1+kplmmkP3suftwTubK9Vq22qKmrBhpY4jvd5afdRA3wGjFAgcnTK2s4hY0/GPNIb0nErGMCRxWOOX64Z8RAC4oCXdklmEvcL8o0BfkNK4lUg9HTl+oPlQxdNo3Mg4Nv175e/1LDGzZen30MEjRUtmXSfiTVu1kK8W4txyV6BMKlbgk3lMwYCiusNy9fVfvvwMxv8Ynl6vxoByANLTWplvuj/nF9m2+PDtt1eiHPBr1oIfhCChQMBw6Aw0UulqTKZdfVvfG7VcfIqLG9bcldL/+pdWTLxLUy8Qq38heUIjh4XlzZxzQm19lLFlr8vdQ97rjZVOLf8nclzckbcD4wxXMidpX30sFd37Fv/GtwwhzhxGVAprjbg0gCAEeIgwCZyTV2Z1REEW8O4py0wsjeloKoMr6iCY6dP92H6Vw/oTyICIthibxjm/DfN9lVz8IqtqKYLUXfoKVMVQVVJOElGjrnnUt9T9wbgp8AyYKaGlqingHZU/uG2NTZSVqwHQTWkx9hxjkpWDaCg6Ckj5qebgBVbT3V3NNXMSiWSDdGV3hrtzla7J+duwPOToIg42ChPQOQjspnSlp1V+Gjdged7+8UN5CRAV7a5EdFNwCjEaBR27b3W890TE7g24NAP/mMDXRWrGoFPQI9ls/MWO2dWFAar/xcOIImbbpA3zgAAAABJRU5ErkJggg==);\n",
       "        }\n",
       "    </style>\n",
       "    <div>\n",
       "        <a href=\"https://bokeh.org\" target=\"_blank\" class=\"bk-notebook-logo\"></a>\n",
       "        <span id=\"eba8f12a-ca58-4d37-805b-6b27c580574f\">Loading BokehJS ...</span>\n",
       "    </div>\n"
      ]
     },
     "metadata": {},
     "output_type": "display_data"
    },
    {
     "data": {
      "application/javascript": "'use strict';\n(function(root) {\n  function now() {\n    return new Date();\n  }\n\n  const force = true;\n\n  if (typeof root._bokeh_onload_callbacks === \"undefined\" || force === true) {\n    root._bokeh_onload_callbacks = [];\n    root._bokeh_is_loading = undefined;\n  }\n\nconst JS_MIME_TYPE = 'application/javascript';\n  const HTML_MIME_TYPE = 'text/html';\n  const EXEC_MIME_TYPE = 'application/vnd.bokehjs_exec.v0+json';\n  const CLASS_NAME = 'output_bokeh rendered_html';\n\n  /**\n   * Render data to the DOM node\n   */\n  function render(props, node) {\n    const script = document.createElement(\"script\");\n    node.appendChild(script);\n  }\n\n  /**\n   * Handle when an output is cleared or removed\n   */\n  function handleClearOutput(event, handle) {\n    function drop(id) {\n      const view = Bokeh.index.get_by_id(id)\n      if (view != null) {\n        view.model.document.clear()\n        Bokeh.index.delete(view)\n      }\n    }\n\n    const cell = handle.cell;\n\n    const id = cell.output_area._bokeh_element_id;\n    const server_id = cell.output_area._bokeh_server_id;\n\n    // Clean up Bokeh references\n    if (id != null) {\n      drop(id)\n    }\n\n    if (server_id !== undefined) {\n      // Clean up Bokeh references\n      const cmd_clean = \"from bokeh.io.state import curstate; print(curstate().uuid_to_server['\" + server_id + \"'].get_sessions()[0].document.roots[0]._id)\";\n      cell.notebook.kernel.execute(cmd_clean, {\n        iopub: {\n          output: function(msg) {\n            const id = msg.content.text.trim()\n            drop(id)\n          }\n        }\n      });\n      // Destroy server and session\n      const cmd_destroy = \"import bokeh.io.notebook as ion; ion.destroy_server('\" + server_id + \"')\";\n      cell.notebook.kernel.execute(cmd_destroy);\n    }\n  }\n\n  /**\n   * Handle when a new output is added\n   */\n  function handleAddOutput(event, handle) {\n    const output_area = handle.output_area;\n    const output = handle.output;\n\n    // limit handleAddOutput to display_data with EXEC_MIME_TYPE content only\n    if ((output.output_type != \"display_data\") || (!Object.prototype.hasOwnProperty.call(output.data, EXEC_MIME_TYPE))) {\n      return\n    }\n\n    const toinsert = output_area.element.find(\".\" + CLASS_NAME.split(' ')[0]);\n\n    if (output.metadata[EXEC_MIME_TYPE][\"id\"] !== undefined) {\n      toinsert[toinsert.length - 1].firstChild.textContent = output.data[JS_MIME_TYPE];\n      // store reference to embed id on output_area\n      output_area._bokeh_element_id = output.metadata[EXEC_MIME_TYPE][\"id\"];\n    }\n    if (output.metadata[EXEC_MIME_TYPE][\"server_id\"] !== undefined) {\n      const bk_div = document.createElement(\"div\");\n      bk_div.innerHTML = output.data[HTML_MIME_TYPE];\n      const script_attrs = bk_div.children[0].attributes;\n      for (let i = 0; i < script_attrs.length; i++) {\n        toinsert[toinsert.length - 1].firstChild.setAttribute(script_attrs[i].name, script_attrs[i].value);\n        toinsert[toinsert.length - 1].firstChild.textContent = bk_div.children[0].textContent\n      }\n      // store reference to server id on output_area\n      output_area._bokeh_server_id = output.metadata[EXEC_MIME_TYPE][\"server_id\"];\n    }\n  }\n\n  function register_renderer(events, OutputArea) {\n\n    function append_mime(data, metadata, element) {\n      // create a DOM node to render to\n      const toinsert = this.create_output_subarea(\n        metadata,\n        CLASS_NAME,\n        EXEC_MIME_TYPE\n      );\n      this.keyboard_manager.register_events(toinsert);\n      // Render to node\n      const props = {data: data, metadata: metadata[EXEC_MIME_TYPE]};\n      render(props, toinsert[toinsert.length - 1]);\n      element.append(toinsert);\n      return toinsert\n    }\n\n    /* Handle when an output is cleared or removed */\n    events.on('clear_output.CodeCell', handleClearOutput);\n    events.on('delete.Cell', handleClearOutput);\n\n    /* Handle when a new output is added */\n    events.on('output_added.OutputArea', handleAddOutput);\n\n    /**\n     * Register the mime type and append_mime function with output_area\n     */\n    OutputArea.prototype.register_mime_type(EXEC_MIME_TYPE, append_mime, {\n      /* Is output safe? */\n      safe: true,\n      /* Index of renderer in `output_area.display_order` */\n      index: 0\n    });\n  }\n\n  // register the mime type if in Jupyter Notebook environment and previously unregistered\n  if (root.Jupyter !== undefined) {\n    const events = require('base/js/events');\n    const OutputArea = require('notebook/js/outputarea').OutputArea;\n\n    if (OutputArea.prototype.mime_types().indexOf(EXEC_MIME_TYPE) == -1) {\n      register_renderer(events, OutputArea);\n    }\n  }\n  if (typeof (root._bokeh_timeout) === \"undefined\" || force === true) {\n    root._bokeh_timeout = Date.now() + 5000;\n    root._bokeh_failed_load = false;\n  }\n\n  const NB_LOAD_WARNING = {'data': {'text/html':\n     \"<div style='background-color: #fdd'>\\n\"+\n     \"<p>\\n\"+\n     \"BokehJS does not appear to have successfully loaded. If loading BokehJS from CDN, this \\n\"+\n     \"may be due to a slow or bad network connection. Possible fixes:\\n\"+\n     \"</p>\\n\"+\n     \"<ul>\\n\"+\n     \"<li>re-rerun `output_notebook()` to attempt to load from CDN again, or</li>\\n\"+\n     \"<li>use INLINE resources instead, as so:</li>\\n\"+\n     \"</ul>\\n\"+\n     \"<code>\\n\"+\n     \"from bokeh.resources import INLINE\\n\"+\n     \"output_notebook(resources=INLINE)\\n\"+\n     \"</code>\\n\"+\n     \"</div>\"}};\n\n  function display_loaded(error = null) {\n    const el = document.getElementById(\"eba8f12a-ca58-4d37-805b-6b27c580574f\");\n    if (el != null) {\n      const html = (() => {\n        if (typeof root.Bokeh === \"undefined\") {\n          if (error == null) {\n            return \"BokehJS is loading ...\";\n          } else {\n            return \"BokehJS failed to load.\";\n          }\n        } else {\n          const prefix = `BokehJS ${root.Bokeh.version}`;\n          if (error == null) {\n            return `${prefix} successfully loaded.`;\n          } else {\n            return `${prefix} <b>encountered errors</b> while loading and may not function as expected.`;\n          }\n        }\n      })();\n      el.innerHTML = html;\n\n      if (error != null) {\n        const wrapper = document.createElement(\"div\");\n        wrapper.style.overflow = \"auto\";\n        wrapper.style.height = \"5em\";\n        wrapper.style.resize = \"vertical\";\n        const content = document.createElement(\"div\");\n        content.style.fontFamily = \"monospace\";\n        content.style.whiteSpace = \"pre-wrap\";\n        content.style.backgroundColor = \"rgb(255, 221, 221)\";\n        content.textContent = error.stack ?? error.toString();\n        wrapper.append(content);\n        el.append(wrapper);\n      }\n    } else if (Date.now() < root._bokeh_timeout) {\n      setTimeout(() => display_loaded(error), 100);\n    }\n  }\n\n  function run_callbacks() {\n    try {\n      root._bokeh_onload_callbacks.forEach(function(callback) {\n        if (callback != null)\n          callback();\n      });\n    } finally {\n      delete root._bokeh_onload_callbacks\n    }\n    console.debug(\"Bokeh: all callbacks have finished\");\n  }\n\n  function load_libs(css_urls, js_urls, callback) {\n    if (css_urls == null) css_urls = [];\n    if (js_urls == null) js_urls = [];\n\n    root._bokeh_onload_callbacks.push(callback);\n    if (root._bokeh_is_loading > 0) {\n      console.debug(\"Bokeh: BokehJS is being loaded, scheduling callback at\", now());\n      return null;\n    }\n    if (js_urls == null || js_urls.length === 0) {\n      run_callbacks();\n      return null;\n    }\n    console.debug(\"Bokeh: BokehJS not loaded, scheduling load and callback at\", now());\n    root._bokeh_is_loading = css_urls.length + js_urls.length;\n\n    function on_load() {\n      root._bokeh_is_loading--;\n      if (root._bokeh_is_loading === 0) {\n        console.debug(\"Bokeh: all BokehJS libraries/stylesheets loaded\");\n        run_callbacks()\n      }\n    }\n\n    function on_error(url) {\n      console.error(\"failed to load \" + url);\n    }\n\n    for (let i = 0; i < css_urls.length; i++) {\n      const url = css_urls[i];\n      const element = document.createElement(\"link\");\n      element.onload = on_load;\n      element.onerror = on_error.bind(null, url);\n      element.rel = \"stylesheet\";\n      element.type = \"text/css\";\n      element.href = url;\n      console.debug(\"Bokeh: injecting link tag for BokehJS stylesheet: \", url);\n      document.body.appendChild(element);\n    }\n\n    for (let i = 0; i < js_urls.length; i++) {\n      const url = js_urls[i];\n      const element = document.createElement('script');\n      element.onload = on_load;\n      element.onerror = on_error.bind(null, url);\n      element.async = false;\n      element.src = url;\n      console.debug(\"Bokeh: injecting script tag for BokehJS library: \", url);\n      document.head.appendChild(element);\n    }\n  };\n\n  function inject_raw_css(css) {\n    const element = document.createElement(\"style\");\n    element.appendChild(document.createTextNode(css));\n    document.body.appendChild(element);\n  }\n\n  const js_urls = [\"https://cdn.bokeh.org/bokeh/release/bokeh-3.6.2.min.js\", \"https://cdn.bokeh.org/bokeh/release/bokeh-gl-3.6.2.min.js\", \"https://cdn.bokeh.org/bokeh/release/bokeh-widgets-3.6.2.min.js\", \"https://cdn.bokeh.org/bokeh/release/bokeh-tables-3.6.2.min.js\", \"https://cdn.bokeh.org/bokeh/release/bokeh-mathjax-3.6.2.min.js\"];\n  const css_urls = [];\n\n  const inline_js = [    function(Bokeh) {\n      Bokeh.set_log_level(\"info\");\n    },\nfunction(Bokeh) {\n    }\n  ];\n\n  function run_inline_js() {\n    if (root.Bokeh !== undefined || force === true) {\n      try {\n            for (let i = 0; i < inline_js.length; i++) {\n      inline_js[i].call(root, root.Bokeh);\n    }\n\n      } catch (error) {display_loaded(error);throw error;\n      }if (force === true) {\n        display_loaded();\n      }} else if (Date.now() < root._bokeh_timeout) {\n      setTimeout(run_inline_js, 100);\n    } else if (!root._bokeh_failed_load) {\n      console.log(\"Bokeh: BokehJS failed to load within specified timeout.\");\n      root._bokeh_failed_load = true;\n    } else if (force !== true) {\n      const cell = $(document.getElementById(\"eba8f12a-ca58-4d37-805b-6b27c580574f\")).parents('.cell').data().cell;\n      cell.output_area.append_execute_result(NB_LOAD_WARNING)\n    }\n  }\n\n  if (root._bokeh_is_loading === 0) {\n    console.debug(\"Bokeh: BokehJS loaded, going straight to plotting\");\n    run_inline_js();\n  } else {\n    load_libs(css_urls, js_urls, function() {\n      console.debug(\"Bokeh: BokehJS plotting callback run at\", now());\n      run_inline_js();\n    });\n  }\n}(window));",
      "application/vnd.bokehjs_load.v0+json": ""
     },
     "metadata": {},
     "output_type": "display_data"
    }
   ],
   "source": [
    "import pandas as pd\n",
    "import json\n",
    "from collections import defaultdict\n",
    "\n",
    "from bokeh.io import show, output_file, output_notebook\n",
    "from bokeh.plotting import figure, curdoc, show\n",
    "from bokeh.models import ColumnDataSource, Select\n",
    "from bokeh.layouts import column\n",
    "from bokeh.palettes import Category10\n",
    "\n",
    "output_notebook()"
   ]
  },
  {
   "cell_type": "code",
   "execution_count": 2,
   "metadata": {},
   "outputs": [],
   "source": [
    "# Ruta relativa al archivo JSON\n",
    "ruta_json = \"../Jsonl/course-creaaa1/course-creaaa1-limpio.json\""
   ]
  },
  {
   "cell_type": "code",
   "execution_count": 3,
   "metadata": {},
   "outputs": [],
   "source": [
    "# Ejemplo de uso:\n",
    "codigo_a_nombre = {\n",
    "    \"video_intro\": \"vKq2NotGPJQ\",\n",
    "    \"LR_1_Video1_Semana1\": \"U3cK1QMIIEQ\",\n",
    "    \"LR_1_Video2_Semana1\": \"9aNQZ9dKXRY\",\n",
    "    \"LR_1_Video3_Semana1\": \"lsNxh-lSpCY\",\n",
    "    \"LR_1_Video4_Semana1\": \"C3LnEvN0qZ0\",\n",
    "    \"LR_1_Video5_Semana1\": \"vbpbkQE5K_Q\",\n",
    "    \"LR_1_Video6_Semana1\": \"zCFa0xjGXGQ\",\n",
    "    \"LR_1_Video7_Semana1\": \"qlS7ShZfb-c\",\n",
    "    \"LR_1_Video8_Semana1\": \"8cKRb9CKtxk\",\n",
    "    \"LR_1_Video9_Semana1\": \"WyrfIZ6VBcM\",\n",
    "    \"LR_1_Video10_Semana1\": \"NgUhK3rw1IE\",\n",
    "    \"LR_1_Video11_Semana1\": \"ttP0EyzSbbo\",\n",
    "    \"LR_1_Video12_Semana1\": \"Vy4FWDyjZo4\",\n",
    "    \"LR_2_Video1_Semana1\": \"leg7NPlfNf0\",\n",
    "    \"LR_2_Video2_Semana1\": \"avTMbQWrFgM\",\n",
    "    \"LR_2_Video3_Semana1\": \"cNoUwGM1DQs\",\n",
    "    \"LR_2_Video4_Semana1\": \"6Mst559v-Uc\",\n",
    "    \"LR_2_Video5_Semana1\": \"CNQpefXv5DY\",\n",
    "    \"LR_2_Video_Semana1\": \"6W1_fBZFqns\",\n",
    "    \"LR_1_Video1_Semana2\": \"o5VwDVJ7N3Q\",\n",
    "    \"LR_1_Video2_Semana2\": \"LluqYlh2xg4\",\n",
    "    \"LR_1_Video3_Semana2\": \"eE658thjDj8\",\n",
    "    \"LR_1_Video4_Semana2\": \"QbEpClHzTeM\",\n",
    "    \"LR_1_Video5_Semana2\": \"MCG0or2ULB4\",\n",
    "    \"LR_1_Video6_Semana2\": \"ol-vGTdHBNU\",\n",
    "    \"LR_1_Video7_Semana2\": \"WTXS0IMQ3Ss\",\n",
    "    \"LR_1_Video8_Semana2\": \"9kqXmM3b3wc\",\n",
    "    \"VS1_Video1_Semana2\": \"_zQHV3vCGpA\",\n",
    "    \"VS2_Video2_Semana2\": \"RropOrUc2AE\",\n",
    "    \"Video1_Semana3\": \"VGHSSIUyFhI\",\n",
    "    \"Video1_Semana4\": \"kyGRuJXaboU\",\n",
    "}\n",
    "\n",
    "# Lista de interacciones relacionadas con videos\n",
    "interacciones_video = [\"play_video\", \"pause_video\", \"seek_video\", \"stop_video\"]"
   ]
  },
  {
   "cell_type": "code",
   "execution_count": 4,
   "metadata": {},
   "outputs": [],
   "source": [
    "# Leer el archivo JSON\n",
    "with open(ruta_json, \"r\", encoding=\"utf-8\") as f:\n",
    "    data = json.load(f)\n",
    "\n",
    "# Convertir a DataFrame\n",
    "data = pd.DataFrame(data)"
   ]
  },
  {
   "cell_type": "code",
   "execution_count": 5,
   "metadata": {},
   "outputs": [],
   "source": [
    "# Función para contar interacciones\n",
    "def contar_interacciones(data, interacciones):\n",
    "    conteos = defaultdict(lambda: defaultdict(int))\n",
    "    for _, row in data.iterrows():\n",
    "        if row.get(\"name\") in interacciones:\n",
    "            try:\n",
    "                evento_json = json.loads(row.get(\"event\", '{}'))\n",
    "                codigo_video = evento_json.get(\"code\", \"\")\n",
    "                if codigo_video:\n",
    "                    conteos[row.get(\"name\")][codigo_video] += 1\n",
    "            except json.JSONDecodeError as e:\n",
    "                print(f\"Error al decodificar línea: {e}\")\n",
    "    return conteos"
   ]
  },
  {
   "cell_type": "code",
   "execution_count": 6,
   "metadata": {},
   "outputs": [],
   "source": [
    "# Convertir los códigos de video a nombres\n",
    "def convertir_codigos_a_nombres(conteos, codigo_a_nombre):\n",
    "    conteos_con_nombres = defaultdict(dict)\n",
    "    for interaccion, videos in conteos.items():\n",
    "        for codigo, conteo in videos.items():\n",
    "            nombre_video = codigo_a_nombre.get(codigo, codigo)\n",
    "            conteos_con_nombres[interaccion][nombre_video] = conteo\n",
    "    return conteos_con_nombres"
   ]
  },
  {
   "cell_type": "code",
   "execution_count": 7,
   "metadata": {},
   "outputs": [],
   "source": [
    "# Obtener los conteos y convertir los códigos\n",
    "conteos = contar_interacciones(data, interacciones_video)\n",
    "conteos_con_nombres = convertir_codigos_a_nombres(conteos, codigo_a_nombre)"
   ]
  },
  {
   "cell_type": "code",
   "execution_count": 19,
   "metadata": {},
   "outputs": [],
   "source": [
    "# Función para preparar los datos para la gráfica\n",
    "def preparar_datos(conteos_con_nombres, interaccion_seleccionada):\n",
    "    if interaccion_seleccionada == \"Todas las interacciones\":\n",
    "        data = {\"videos\": list(codigo_a_nombre.values())}\n",
    "        for tipo, videos in conteos_con_nombres.items():\n",
    "            data[tipo] = [videos.get(nombre, 0) for nombre in codigo_a_nombre.values()]\n",
    "    else:\n",
    "        data = {\n",
    "            \"videos\": list(codigo_a_nombre.values()),\n",
    "            \"reproducciones\": [\n",
    "                conteos_con_nombres.get(interaccion_seleccionada, {}).get(nombre, 0)\n",
    "                for nombre in codigo_a_nombre.values()\n",
    "            ],\n",
    "        }\n",
    "    return ColumnDataSource(data=data)"
   ]
  },
  {
   "cell_type": "code",
   "execution_count": 18,
   "metadata": {},
   "outputs": [],
   "source": [
    "# Callback para actualizar la gráfica\n",
    "def actualizar_grafica(attr, old, new):\n",
    "    nueva_fuente = preparar_datos(conteos_con_nombres, select.value)\n",
    "    source.data = nueva_fuente.data\n",
    "    p.renderers = []\n",
    "    if select.value == \"Todas las interacciones\":\n",
    "        p.vbar_stack(\n",
    "            list(conteos_con_nombres.keys()),\n",
    "            x=\"videos\",\n",
    "            source=source,\n",
    "            width=0.8,\n",
    "            color=Category10[len(conteos_con_nombres)],\n",
    "            legend_label=list(conteos_con_nombres.keys()),\n",
    "        )\n",
    "        p.legend.click_policy = \"mute\"\n",
    "    else:\n",
    "        p.vbar(\n",
    "            x=\"videos\",\n",
    "            top=\"reproducciones\",\n",
    "            width=0.8,\n",
    "            source=source,\n",
    "            fill_color=\"skyblue\",\n",
    "            line_color=\"black\",\n",
    "        )"
   ]
  },
  {
   "cell_type": "code",
   "execution_count": 21,
   "metadata": {},
   "outputs": [],
   "source": [
    "# Configuración inicial\n",
    "interaccion_inicial = \"Todas las interacciones\"\n",
    "source = preparar_datos(conteos_con_nombres, interaccion_inicial)"
   ]
  },
  {
   "cell_type": "code",
   "execution_count": 29,
   "metadata": {},
   "outputs": [
    {
     "data": {
      "text/html": [
       "\n",
       "  <div id=\"aa78e7b5-edab-4d30-911a-7131ac59cb72\" data-root-id=\"p1866\" style=\"display: contents;\"></div>\n"
      ]
     },
     "metadata": {},
     "output_type": "display_data"
    },
    {
     "data": {
      "application/javascript": "(function(root) {\n  function embed_document(root) {\n  const docs_json = {\"3b7b9afe-ccc3-4889-ad2a-3c8dda1ab31e\":{\"version\":\"3.6.2\",\"title\":\"Bokeh Application\",\"roots\":[{\"type\":\"object\",\"name\":\"Figure\",\"id\":\"p1866\",\"attributes\":{\"width\":800,\"height\":400,\"x_range\":{\"type\":\"object\",\"name\":\"FactorRange\",\"id\":\"p1876\",\"attributes\":{\"factors\":[\"vKq2NotGPJQ\",\"U3cK1QMIIEQ\",\"9aNQZ9dKXRY\",\"lsNxh-lSpCY\",\"C3LnEvN0qZ0\",\"vbpbkQE5K_Q\",\"zCFa0xjGXGQ\",\"qlS7ShZfb-c\",\"8cKRb9CKtxk\",\"WyrfIZ6VBcM\",\"NgUhK3rw1IE\",\"ttP0EyzSbbo\",\"Vy4FWDyjZo4\",\"leg7NPlfNf0\",\"avTMbQWrFgM\",\"cNoUwGM1DQs\",\"6Mst559v-Uc\",\"CNQpefXv5DY\",\"6W1_fBZFqns\",\"o5VwDVJ7N3Q\",\"LluqYlh2xg4\",\"eE658thjDj8\",\"QbEpClHzTeM\",\"MCG0or2ULB4\",\"ol-vGTdHBNU\",\"WTXS0IMQ3Ss\",\"9kqXmM3b3wc\",\"_zQHV3vCGpA\",\"RropOrUc2AE\",\"VGHSSIUyFhI\",\"kyGRuJXaboU\"]}},\"y_range\":{\"type\":\"object\",\"name\":\"DataRange1d\",\"id\":\"p1868\"},\"x_scale\":{\"type\":\"object\",\"name\":\"CategoricalScale\",\"id\":\"p1877\"},\"y_scale\":{\"type\":\"object\",\"name\":\"LinearScale\",\"id\":\"p1878\"},\"title\":{\"type\":\"object\",\"name\":\"Title\",\"id\":\"p1869\",\"attributes\":{\"text\":\"Interacciones por Video\"}},\"renderers\":[{\"type\":\"object\",\"name\":\"GlyphRenderer\",\"id\":\"p1915\",\"attributes\":{\"name\":\"play_video\",\"data_source\":{\"type\":\"object\",\"name\":\"ColumnDataSource\",\"id\":\"p1437\",\"attributes\":{\"selected\":{\"type\":\"object\",\"name\":\"Selection\",\"id\":\"p1438\",\"attributes\":{\"indices\":[],\"line_indices\":[]}},\"selection_policy\":{\"type\":\"object\",\"name\":\"UnionRenderers\",\"id\":\"p1439\"},\"data\":{\"type\":\"map\",\"entries\":[[\"videos\",[\"vKq2NotGPJQ\",\"U3cK1QMIIEQ\",\"9aNQZ9dKXRY\",\"lsNxh-lSpCY\",\"C3LnEvN0qZ0\",\"vbpbkQE5K_Q\",\"zCFa0xjGXGQ\",\"qlS7ShZfb-c\",\"8cKRb9CKtxk\",\"WyrfIZ6VBcM\",\"NgUhK3rw1IE\",\"ttP0EyzSbbo\",\"Vy4FWDyjZo4\",\"leg7NPlfNf0\",\"avTMbQWrFgM\",\"cNoUwGM1DQs\",\"6Mst559v-Uc\",\"CNQpefXv5DY\",\"6W1_fBZFqns\",\"o5VwDVJ7N3Q\",\"LluqYlh2xg4\",\"eE658thjDj8\",\"QbEpClHzTeM\",\"MCG0or2ULB4\",\"ol-vGTdHBNU\",\"WTXS0IMQ3Ss\",\"9kqXmM3b3wc\",\"_zQHV3vCGpA\",\"RropOrUc2AE\",\"VGHSSIUyFhI\",\"kyGRuJXaboU\"]],[\"play_video\",[0,694,394,149,93,59,48,94,50,36,45,37,38,49,36,31,29,21,31,120,44,32,20,32,40,18,44,20,28,42,0]],[\"seek_video\",[0,175,50,69,42,15,2,47,5,1,1,1,1,4,2,1,2,1,2,43,19,8,2,5,26,2,23,9,2,15,0]],[\"pause_video\",[0,103,52,35,26,18,19,17,15,13,11,10,14,17,15,12,14,12,12,31,21,15,12,17,12,10,15,8,16,18,0]],[\"stop_video\",[0,35,20,14,14,11,10,8,8,6,8,7,9,11,10,9,10,9,9,17,8,7,9,8,6,8,7,4,4,7,0]]]}}},\"view\":{\"type\":\"object\",\"name\":\"CDSView\",\"id\":\"p1916\",\"attributes\":{\"filter\":{\"type\":\"object\",\"name\":\"AllIndices\",\"id\":\"p1917\"}}},\"glyph\":{\"type\":\"object\",\"name\":\"VBar\",\"id\":\"p1912\",\"attributes\":{\"x\":{\"type\":\"field\",\"field\":\"videos\"},\"width\":{\"type\":\"value\",\"value\":0.8},\"bottom\":{\"type\":\"expr\",\"expr\":{\"type\":\"object\",\"name\":\"Stack\",\"id\":\"p1901\",\"attributes\":{\"fields\":[]}}},\"top\":{\"type\":\"expr\",\"expr\":{\"type\":\"object\",\"name\":\"Stack\",\"id\":\"p1902\",\"attributes\":{\"fields\":[\"play_video\"]}}},\"line_color\":{\"type\":\"value\",\"value\":\"#1f77b4\"},\"fill_color\":{\"type\":\"value\",\"value\":\"#1f77b4\"},\"hatch_color\":{\"type\":\"value\",\"value\":\"#1f77b4\"}}},\"nonselection_glyph\":{\"type\":\"object\",\"name\":\"VBar\",\"id\":\"p1913\",\"attributes\":{\"x\":{\"type\":\"field\",\"field\":\"videos\"},\"width\":{\"type\":\"value\",\"value\":0.8},\"bottom\":{\"type\":\"expr\",\"expr\":{\"id\":\"p1901\"}},\"top\":{\"type\":\"expr\",\"expr\":{\"id\":\"p1902\"}},\"line_color\":{\"type\":\"value\",\"value\":\"#1f77b4\"},\"line_alpha\":{\"type\":\"value\",\"value\":0.1},\"fill_color\":{\"type\":\"value\",\"value\":\"#1f77b4\"},\"fill_alpha\":{\"type\":\"value\",\"value\":0.1},\"hatch_color\":{\"type\":\"value\",\"value\":\"#1f77b4\"},\"hatch_alpha\":{\"type\":\"value\",\"value\":0.1}}},\"muted_glyph\":{\"type\":\"object\",\"name\":\"VBar\",\"id\":\"p1914\",\"attributes\":{\"x\":{\"type\":\"field\",\"field\":\"videos\"},\"width\":{\"type\":\"value\",\"value\":0.8},\"bottom\":{\"type\":\"expr\",\"expr\":{\"id\":\"p1901\"}},\"top\":{\"type\":\"expr\",\"expr\":{\"id\":\"p1902\"}},\"line_color\":{\"type\":\"value\",\"value\":\"#1f77b4\"},\"line_alpha\":{\"type\":\"value\",\"value\":0.2},\"fill_color\":{\"type\":\"value\",\"value\":\"#1f77b4\"},\"fill_alpha\":{\"type\":\"value\",\"value\":0.2},\"hatch_color\":{\"type\":\"value\",\"value\":\"#1f77b4\"},\"hatch_alpha\":{\"type\":\"value\",\"value\":0.2}}}}},{\"type\":\"object\",\"name\":\"GlyphRenderer\",\"id\":\"p1926\",\"attributes\":{\"name\":\"seek_video\",\"data_source\":{\"id\":\"p1437\"},\"view\":{\"type\":\"object\",\"name\":\"CDSView\",\"id\":\"p1927\",\"attributes\":{\"filter\":{\"type\":\"object\",\"name\":\"AllIndices\",\"id\":\"p1928\"}}},\"glyph\":{\"type\":\"object\",\"name\":\"VBar\",\"id\":\"p1923\",\"attributes\":{\"x\":{\"type\":\"field\",\"field\":\"videos\"},\"width\":{\"type\":\"value\",\"value\":0.8},\"bottom\":{\"type\":\"expr\",\"expr\":{\"type\":\"object\",\"name\":\"Stack\",\"id\":\"p1903\",\"attributes\":{\"fields\":[\"play_video\"]}}},\"top\":{\"type\":\"expr\",\"expr\":{\"type\":\"object\",\"name\":\"Stack\",\"id\":\"p1904\",\"attributes\":{\"fields\":[\"play_video\",\"seek_video\"]}}},\"line_color\":{\"type\":\"value\",\"value\":\"#ff7f0e\"},\"fill_color\":{\"type\":\"value\",\"value\":\"#ff7f0e\"},\"hatch_color\":{\"type\":\"value\",\"value\":\"#ff7f0e\"}}},\"nonselection_glyph\":{\"type\":\"object\",\"name\":\"VBar\",\"id\":\"p1924\",\"attributes\":{\"x\":{\"type\":\"field\",\"field\":\"videos\"},\"width\":{\"type\":\"value\",\"value\":0.8},\"bottom\":{\"type\":\"expr\",\"expr\":{\"id\":\"p1903\"}},\"top\":{\"type\":\"expr\",\"expr\":{\"id\":\"p1904\"}},\"line_color\":{\"type\":\"value\",\"value\":\"#ff7f0e\"},\"line_alpha\":{\"type\":\"value\",\"value\":0.1},\"fill_color\":{\"type\":\"value\",\"value\":\"#ff7f0e\"},\"fill_alpha\":{\"type\":\"value\",\"value\":0.1},\"hatch_color\":{\"type\":\"value\",\"value\":\"#ff7f0e\"},\"hatch_alpha\":{\"type\":\"value\",\"value\":0.1}}},\"muted_glyph\":{\"type\":\"object\",\"name\":\"VBar\",\"id\":\"p1925\",\"attributes\":{\"x\":{\"type\":\"field\",\"field\":\"videos\"},\"width\":{\"type\":\"value\",\"value\":0.8},\"bottom\":{\"type\":\"expr\",\"expr\":{\"id\":\"p1903\"}},\"top\":{\"type\":\"expr\",\"expr\":{\"id\":\"p1904\"}},\"line_color\":{\"type\":\"value\",\"value\":\"#ff7f0e\"},\"line_alpha\":{\"type\":\"value\",\"value\":0.2},\"fill_color\":{\"type\":\"value\",\"value\":\"#ff7f0e\"},\"fill_alpha\":{\"type\":\"value\",\"value\":0.2},\"hatch_color\":{\"type\":\"value\",\"value\":\"#ff7f0e\"},\"hatch_alpha\":{\"type\":\"value\",\"value\":0.2}}}}},{\"type\":\"object\",\"name\":\"GlyphRenderer\",\"id\":\"p1936\",\"attributes\":{\"name\":\"pause_video\",\"data_source\":{\"id\":\"p1437\"},\"view\":{\"type\":\"object\",\"name\":\"CDSView\",\"id\":\"p1937\",\"attributes\":{\"filter\":{\"type\":\"object\",\"name\":\"AllIndices\",\"id\":\"p1938\"}}},\"glyph\":{\"type\":\"object\",\"name\":\"VBar\",\"id\":\"p1933\",\"attributes\":{\"x\":{\"type\":\"field\",\"field\":\"videos\"},\"width\":{\"type\":\"value\",\"value\":0.8},\"bottom\":{\"type\":\"expr\",\"expr\":{\"type\":\"object\",\"name\":\"Stack\",\"id\":\"p1905\",\"attributes\":{\"fields\":[\"play_video\",\"seek_video\"]}}},\"top\":{\"type\":\"expr\",\"expr\":{\"type\":\"object\",\"name\":\"Stack\",\"id\":\"p1906\",\"attributes\":{\"fields\":[\"play_video\",\"seek_video\",\"pause_video\"]}}},\"line_color\":{\"type\":\"value\",\"value\":\"#2ca02c\"},\"fill_color\":{\"type\":\"value\",\"value\":\"#2ca02c\"},\"hatch_color\":{\"type\":\"value\",\"value\":\"#2ca02c\"}}},\"nonselection_glyph\":{\"type\":\"object\",\"name\":\"VBar\",\"id\":\"p1934\",\"attributes\":{\"x\":{\"type\":\"field\",\"field\":\"videos\"},\"width\":{\"type\":\"value\",\"value\":0.8},\"bottom\":{\"type\":\"expr\",\"expr\":{\"id\":\"p1905\"}},\"top\":{\"type\":\"expr\",\"expr\":{\"id\":\"p1906\"}},\"line_color\":{\"type\":\"value\",\"value\":\"#2ca02c\"},\"line_alpha\":{\"type\":\"value\",\"value\":0.1},\"fill_color\":{\"type\":\"value\",\"value\":\"#2ca02c\"},\"fill_alpha\":{\"type\":\"value\",\"value\":0.1},\"hatch_color\":{\"type\":\"value\",\"value\":\"#2ca02c\"},\"hatch_alpha\":{\"type\":\"value\",\"value\":0.1}}},\"muted_glyph\":{\"type\":\"object\",\"name\":\"VBar\",\"id\":\"p1935\",\"attributes\":{\"x\":{\"type\":\"field\",\"field\":\"videos\"},\"width\":{\"type\":\"value\",\"value\":0.8},\"bottom\":{\"type\":\"expr\",\"expr\":{\"id\":\"p1905\"}},\"top\":{\"type\":\"expr\",\"expr\":{\"id\":\"p1906\"}},\"line_color\":{\"type\":\"value\",\"value\":\"#2ca02c\"},\"line_alpha\":{\"type\":\"value\",\"value\":0.2},\"fill_color\":{\"type\":\"value\",\"value\":\"#2ca02c\"},\"fill_alpha\":{\"type\":\"value\",\"value\":0.2},\"hatch_color\":{\"type\":\"value\",\"value\":\"#2ca02c\"},\"hatch_alpha\":{\"type\":\"value\",\"value\":0.2}}}}},{\"type\":\"object\",\"name\":\"GlyphRenderer\",\"id\":\"p1946\",\"attributes\":{\"name\":\"stop_video\",\"data_source\":{\"id\":\"p1437\"},\"view\":{\"type\":\"object\",\"name\":\"CDSView\",\"id\":\"p1947\",\"attributes\":{\"filter\":{\"type\":\"object\",\"name\":\"AllIndices\",\"id\":\"p1948\"}}},\"glyph\":{\"type\":\"object\",\"name\":\"VBar\",\"id\":\"p1943\",\"attributes\":{\"x\":{\"type\":\"field\",\"field\":\"videos\"},\"width\":{\"type\":\"value\",\"value\":0.8},\"bottom\":{\"type\":\"expr\",\"expr\":{\"type\":\"object\",\"name\":\"Stack\",\"id\":\"p1907\",\"attributes\":{\"fields\":[\"play_video\",\"seek_video\",\"pause_video\"]}}},\"top\":{\"type\":\"expr\",\"expr\":{\"type\":\"object\",\"name\":\"Stack\",\"id\":\"p1908\",\"attributes\":{\"fields\":[\"play_video\",\"seek_video\",\"pause_video\",\"stop_video\"]}}},\"line_color\":{\"type\":\"value\",\"value\":\"#d62728\"},\"fill_color\":{\"type\":\"value\",\"value\":\"#d62728\"},\"hatch_color\":{\"type\":\"value\",\"value\":\"#d62728\"}}},\"nonselection_glyph\":{\"type\":\"object\",\"name\":\"VBar\",\"id\":\"p1944\",\"attributes\":{\"x\":{\"type\":\"field\",\"field\":\"videos\"},\"width\":{\"type\":\"value\",\"value\":0.8},\"bottom\":{\"type\":\"expr\",\"expr\":{\"id\":\"p1907\"}},\"top\":{\"type\":\"expr\",\"expr\":{\"id\":\"p1908\"}},\"line_color\":{\"type\":\"value\",\"value\":\"#d62728\"},\"line_alpha\":{\"type\":\"value\",\"value\":0.1},\"fill_color\":{\"type\":\"value\",\"value\":\"#d62728\"},\"fill_alpha\":{\"type\":\"value\",\"value\":0.1},\"hatch_color\":{\"type\":\"value\",\"value\":\"#d62728\"},\"hatch_alpha\":{\"type\":\"value\",\"value\":0.1}}},\"muted_glyph\":{\"type\":\"object\",\"name\":\"VBar\",\"id\":\"p1945\",\"attributes\":{\"x\":{\"type\":\"field\",\"field\":\"videos\"},\"width\":{\"type\":\"value\",\"value\":0.8},\"bottom\":{\"type\":\"expr\",\"expr\":{\"id\":\"p1907\"}},\"top\":{\"type\":\"expr\",\"expr\":{\"id\":\"p1908\"}},\"line_color\":{\"type\":\"value\",\"value\":\"#d62728\"},\"line_alpha\":{\"type\":\"value\",\"value\":0.2},\"fill_color\":{\"type\":\"value\",\"value\":\"#d62728\"},\"fill_alpha\":{\"type\":\"value\",\"value\":0.2},\"hatch_color\":{\"type\":\"value\",\"value\":\"#d62728\"},\"hatch_alpha\":{\"type\":\"value\",\"value\":0.2}}}}}],\"toolbar\":{\"type\":\"object\",\"name\":\"Toolbar\",\"id\":\"p1875\",\"attributes\":{\"tools\":[{\"type\":\"object\",\"name\":\"PanTool\",\"id\":\"p1889\"},{\"type\":\"object\",\"name\":\"BoxZoomTool\",\"id\":\"p1890\",\"attributes\":{\"overlay\":{\"type\":\"object\",\"name\":\"BoxAnnotation\",\"id\":\"p1891\",\"attributes\":{\"syncable\":false,\"line_color\":\"black\",\"line_alpha\":1.0,\"line_width\":2,\"line_dash\":[4,4],\"fill_color\":\"lightgrey\",\"fill_alpha\":0.5,\"level\":\"overlay\",\"visible\":false,\"left\":{\"type\":\"number\",\"value\":\"nan\"},\"right\":{\"type\":\"number\",\"value\":\"nan\"},\"top\":{\"type\":\"number\",\"value\":\"nan\"},\"bottom\":{\"type\":\"number\",\"value\":\"nan\"},\"left_units\":\"canvas\",\"right_units\":\"canvas\",\"top_units\":\"canvas\",\"bottom_units\":\"canvas\",\"handles\":{\"type\":\"object\",\"name\":\"BoxInteractionHandles\",\"id\":\"p1897\",\"attributes\":{\"all\":{\"type\":\"object\",\"name\":\"AreaVisuals\",\"id\":\"p1896\",\"attributes\":{\"fill_color\":\"white\",\"hover_fill_color\":\"lightgray\"}}}}}}}},{\"type\":\"object\",\"name\":\"WheelZoomTool\",\"id\":\"p1898\",\"attributes\":{\"renderers\":\"auto\"}},{\"type\":\"object\",\"name\":\"SaveTool\",\"id\":\"p1899\"},{\"type\":\"object\",\"name\":\"ResetTool\",\"id\":\"p1900\"}]}},\"left\":[{\"type\":\"object\",\"name\":\"LinearAxis\",\"id\":\"p1884\",\"attributes\":{\"ticker\":{\"type\":\"object\",\"name\":\"BasicTicker\",\"id\":\"p1885\",\"attributes\":{\"mantissas\":[1,2,5]}},\"formatter\":{\"type\":\"object\",\"name\":\"BasicTickFormatter\",\"id\":\"p1886\"},\"axis_label\":\"Reproducciones\",\"major_label_policy\":{\"type\":\"object\",\"name\":\"AllLabels\",\"id\":\"p1887\"}}}],\"below\":[{\"type\":\"object\",\"name\":\"CategoricalAxis\",\"id\":\"p1879\",\"attributes\":{\"ticker\":{\"type\":\"object\",\"name\":\"CategoricalTicker\",\"id\":\"p1880\"},\"formatter\":{\"type\":\"object\",\"name\":\"CategoricalTickFormatter\",\"id\":\"p1881\"},\"axis_label\":\"Videos\",\"major_label_orientation\":0.785,\"major_label_policy\":{\"type\":\"object\",\"name\":\"AllLabels\",\"id\":\"p1882\"}}}],\"center\":[{\"type\":\"object\",\"name\":\"Grid\",\"id\":\"p1883\",\"attributes\":{\"axis\":{\"id\":\"p1879\"}}},{\"type\":\"object\",\"name\":\"Grid\",\"id\":\"p1888\",\"attributes\":{\"dimension\":1,\"axis\":{\"id\":\"p1884\"}}},{\"type\":\"object\",\"name\":\"Legend\",\"id\":\"p1918\",\"attributes\":{\"items\":[{\"type\":\"object\",\"name\":\"LegendItem\",\"id\":\"p1919\",\"attributes\":{\"label\":{\"type\":\"value\",\"value\":\"play_video\"},\"renderers\":[{\"id\":\"p1915\"}]}},{\"type\":\"object\",\"name\":\"LegendItem\",\"id\":\"p1929\",\"attributes\":{\"label\":{\"type\":\"value\",\"value\":\"seek_video\"},\"renderers\":[{\"id\":\"p1926\"}]}},{\"type\":\"object\",\"name\":\"LegendItem\",\"id\":\"p1939\",\"attributes\":{\"label\":{\"type\":\"value\",\"value\":\"pause_video\"},\"renderers\":[{\"id\":\"p1936\"}]}},{\"type\":\"object\",\"name\":\"LegendItem\",\"id\":\"p1949\",\"attributes\":{\"label\":{\"type\":\"value\",\"value\":\"stop_video\"},\"renderers\":[{\"id\":\"p1946\"}]}}]}}]}}]}};\n  const render_items = [{\"docid\":\"3b7b9afe-ccc3-4889-ad2a-3c8dda1ab31e\",\"roots\":{\"p1866\":\"aa78e7b5-edab-4d30-911a-7131ac59cb72\"},\"root_ids\":[\"p1866\"]}];\n  void root.Bokeh.embed.embed_items_notebook(docs_json, render_items);\n  }\n  if (root.Bokeh !== undefined) {\n    embed_document(root);\n  } else {\n    let attempts = 0;\n    const timer = setInterval(function(root) {\n      if (root.Bokeh !== undefined) {\n        clearInterval(timer);\n        embed_document(root);\n      } else {\n        attempts++;\n        if (attempts > 100) {\n          clearInterval(timer);\n          console.log(\"Bokeh: ERROR: Unable to run BokehJS code because BokehJS library is missing\");\n        }\n      }\n    }, 10, root)\n  }\n})(window);",
      "application/vnd.bokehjs_exec.v0+json": ""
     },
     "metadata": {
      "application/vnd.bokehjs_exec.v0+json": {
       "id": "p1866"
      }
     },
     "output_type": "display_data"
    }
   ],
   "source": [
    "# Crear gráfica\n",
    "p = figure(\n",
    "    x_range=list(codigo_a_nombre.values()),\n",
    "    title=\"Interacciones por Video\",\n",
    "    x_axis_label=\"Videos\",\n",
    "    y_axis_label=\"Reproducciones\",\n",
    "    width=800,\n",
    "    height=400,\n",
    "    tools=\"pan,box_zoom,wheel_zoom,save,reset\",\n",
    "    toolbar_location=\"right\",\n",
    ")\n",
    "p.xaxis.major_label_orientation = 0.785\n",
    "\n",
    "# p.vbar_stack(\n",
    "#    list(conteos_con_nombres.keys()),\n",
    "#    x=\"videos\",\n",
    "#    source=source,\n",
    "#    width=0.8,\n",
    "#    color=Category10[len(conteos_con_nombres)],\n",
    "#    legend_label=list(conteos_con_nombres.keys()),\n",
    "#)\n",
    "#p.legend.click_policy = \"mute\"\n",
    "\n",
    "# Crear el widget Select\n",
    "#select = Select(\n",
    "#    title=\"Seleccionar interacción\",\n",
    "#    value=interaccion_inicial,\n",
    "#    options=[\"Todas las interacciones\"] + list(conteos_con_nombres.keys()),\n",
    "#)\n",
    "#select.on_change(\"value\", actualizar_grafica)\n",
    "\n",
    "# Layout final\n",
    "#layout_final = row(select, p)\n",
    "#curdoc().add_root(layout_final)\n",
    "#show(layout_final)\n",
    "\n",
    "if interaccion_inicial == \"Todas las interacciones\":\n",
    "    p.vbar_stack(\n",
    "        list(conteos_con_nombres.keys()),\n",
    "        x=\"videos\",\n",
    "        source=source,\n",
    "        width=0.8,\n",
    "        color=Category10[len(conteos_con_nombres)],\n",
    "        legend_label=list(conteos_con_nombres.keys()),\n",
    "    )\n",
    "else:\n",
    "    p.vbar(\n",
    "        x=\"videos\",\n",
    "        top=\"reproducciones\",\n",
    "        width=0.8,\n",
    "        source=source,\n",
    "        fill_color=\"skyblue\",\n",
    "        line_color=\"black\",\n",
    "    )\n",
    "    \n",
    "# Mostrar directamente el gráfico\n",
    "show(p)"
   ]
  },
  {
   "cell_type": "code",
   "execution_count": null,
   "metadata": {},
   "outputs": [],
   "source": []
  }
 ],
 "metadata": {
  "kernelspec": {
   "display_name": "Open-Campus-Bokeh",
   "language": "python",
   "name": "python3"
  },
  "language_info": {
   "codemirror_mode": {
    "name": "ipython",
    "version": 3
   },
   "file_extension": ".py",
   "mimetype": "text/x-python",
   "name": "python",
   "nbconvert_exporter": "python",
   "pygments_lexer": "ipython3",
   "version": "3.12.7"
  }
 },
 "nbformat": 4,
 "nbformat_minor": 2
}
